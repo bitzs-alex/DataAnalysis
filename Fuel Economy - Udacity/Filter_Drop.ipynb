{
 "cells": [
  {
   "cell_type": "code",
   "execution_count": 1,
   "metadata": {},
   "outputs": [],
   "source": [
    "import pandas as pd\n",
    "import numpy as np"
   ]
  },
  {
   "cell_type": "code",
   "execution_count": 2,
   "metadata": {},
   "outputs": [],
   "source": [
    "# Loading the DataSets\n",
    "all_08 = pd.read_csv('./DataSet/all_alpha_08_cleaned.csv')\n",
    "all_18 = pd.read_csv('./DataSet/all_alpha_18_cleaned.csv')"
   ]
  },
  {
   "cell_type": "code",
   "execution_count": 3,
   "metadata": {},
   "outputs": [
    {
     "data": {
      "text/plain": [
       "((2404, 14), (1611, 14))"
      ]
     },
     "execution_count": 3,
     "metadata": {},
     "output_type": "execute_result"
    }
   ],
   "source": [
    "all_08.shape, all_18.shape"
   ]
  },
  {
   "cell_type": "code",
   "execution_count": 4,
   "metadata": {},
   "outputs": [
    {
     "data": {
      "text/plain": [
       "(Index(['model', 'displ', 'cyl', 'trans', 'drive', 'fuel', 'cert_region',\n",
       "        'veh_class', 'air_pollution_score', 'city_mpg', 'hwy_mpg', 'cmb_mpg',\n",
       "        'greenhouse_gas_score', 'smartway'],\n",
       "       dtype='object'),\n",
       " Index(['model', 'displ', 'cyl', 'trans', 'drive', 'fuel', 'cert_region',\n",
       "        'veh_class', 'air_pollution_score', 'city_mpg', 'hwy_mpg', 'cmb_mpg',\n",
       "        'greenhouse_gas_score', 'smartway'],\n",
       "       dtype='object'))"
      ]
     },
     "execution_count": 4,
     "metadata": {},
     "output_type": "execute_result"
    }
   ],
   "source": [
    "all_08.columns, all_18.columns"
   ]
  },
  {
   "cell_type": "markdown",
   "metadata": {},
   "source": [
    "## Filter, Drop Null, and Drop Duplicates"
   ]
  },
  {
   "cell_type": "markdown",
   "metadata": {},
   "source": [
    "**Filter**\n",
    "   \n",
    "For consistency, only compare cars certified by California standards. Filter both datasets using query to select only rows where cert_region is CA. Then, drop the cert_region columns, since it will no longer provide any useful information (we'll know every value is 'CA')."
   ]
  },
  {
   "cell_type": "code",
   "execution_count": 5,
   "metadata": {},
   "outputs": [],
   "source": [
    "all_08 = all_08[all_08.cert_region == 'CA']\n",
    "all_18 = all_18[all_18.cert_region == 'CA']"
   ]
  },
  {
   "cell_type": "code",
   "execution_count": 6,
   "metadata": {},
   "outputs": [
    {
     "data": {
      "text/plain": [
       "(array(['CA'], dtype=object), array(['CA'], dtype=object))"
      ]
     },
     "execution_count": 6,
     "metadata": {},
     "output_type": "execute_result"
    }
   ],
   "source": [
    "all_08.cert_region.unique(), all_18.cert_region.unique()"
   ]
  },
  {
   "cell_type": "code",
   "execution_count": 7,
   "metadata": {},
   "outputs": [],
   "source": [
    "all_08.drop(columns='cert_region', inplace=True)\n",
    "all_18.drop(columns='cert_region', inplace=True)"
   ]
  },
  {
   "cell_type": "code",
   "execution_count": 8,
   "metadata": {},
   "outputs": [
    {
     "data": {
      "text/plain": [
       "((1084, 13), (798, 13))"
      ]
     },
     "execution_count": 8,
     "metadata": {},
     "output_type": "execute_result"
    }
   ],
   "source": [
    "all_08.shape, all_18.shape"
   ]
  },
  {
   "cell_type": "markdown",
   "metadata": {},
   "source": [
    "**Drop Nulls**\n",
    "  \n",
    "Drop any rows in both datasets that contain missing values."
   ]
  },
  {
   "cell_type": "code",
   "execution_count": 9,
   "metadata": {},
   "outputs": [
    {
     "name": "stdout",
     "output_type": "stream",
     "text": [
      "model                    0\n",
      "displ                    0\n",
      "cyl                     75\n",
      "trans                   75\n",
      "drive                   37\n",
      "fuel                     0\n",
      "veh_class                0\n",
      "air_pollution_score      0\n",
      "city_mpg                75\n",
      "hwy_mpg                 75\n",
      "cmb_mpg                 75\n",
      "greenhouse_gas_score    75\n",
      "smartway                 0\n",
      "dtype: int64\n",
      "\n",
      "model                   0\n",
      "displ                   1\n",
      "cyl                     1\n",
      "trans                   0\n",
      "drive                   0\n",
      "fuel                    0\n",
      "veh_class               0\n",
      "air_pollution_score     0\n",
      "city_mpg                0\n",
      "hwy_mpg                 0\n",
      "cmb_mpg                 0\n",
      "greenhouse_gas_score    0\n",
      "smartway                0\n",
      "dtype: int64\n"
     ]
    }
   ],
   "source": [
    "# Check the number of null values\n",
    "print(all_08.isna().sum())\n",
    "print()\n",
    "print(all_18.isna().sum())"
   ]
  },
  {
   "cell_type": "code",
   "execution_count": 10,
   "metadata": {},
   "outputs": [],
   "source": [
    "# Drop any null values\n",
    "all_08.dropna(inplace=True)\n",
    "all_18.dropna(inplace=True)"
   ]
  },
  {
   "cell_type": "code",
   "execution_count": 11,
   "metadata": {},
   "outputs": [
    {
     "name": "stdout",
     "output_type": "stream",
     "text": [
      "model                   False\n",
      "displ                   False\n",
      "cyl                     False\n",
      "trans                   False\n",
      "drive                   False\n",
      "fuel                    False\n",
      "veh_class               False\n",
      "air_pollution_score     False\n",
      "city_mpg                False\n",
      "hwy_mpg                 False\n",
      "cmb_mpg                 False\n",
      "greenhouse_gas_score    False\n",
      "smartway                False\n",
      "dtype: bool\n",
      "\n",
      "model                   False\n",
      "displ                   False\n",
      "cyl                     False\n",
      "trans                   False\n",
      "drive                   False\n",
      "fuel                    False\n",
      "veh_class               False\n",
      "air_pollution_score     False\n",
      "city_mpg                False\n",
      "hwy_mpg                 False\n",
      "cmb_mpg                 False\n",
      "greenhouse_gas_score    False\n",
      "smartway                False\n",
      "dtype: bool\n"
     ]
    }
   ],
   "source": [
    "# Check if all duplicates are removed\n",
    "print(all_08.isna().any())\n",
    "print()\n",
    "print(all_18.isna().any())"
   ]
  },
  {
   "cell_type": "markdown",
   "metadata": {},
   "source": [
    "**Dedupe**\n",
    "  \n",
    "Drop any duplicate rows in both datasets."
   ]
  },
  {
   "cell_type": "code",
   "execution_count": 12,
   "metadata": {},
   "outputs": [
    {
     "data": {
      "text/plain": [
       "(23, 3)"
      ]
     },
     "execution_count": 12,
     "metadata": {},
     "output_type": "execute_result"
    }
   ],
   "source": [
    "# Check if there are Duplicates\n",
    "all_08.duplicated().sum(), all_18.duplicated().sum()"
   ]
  },
  {
   "cell_type": "code",
   "execution_count": 13,
   "metadata": {},
   "outputs": [],
   "source": [
    "# Drop All Duplicates\n",
    "all_08.drop_duplicates(inplace=True)\n",
    "all_18.drop_duplicates(inplace=True)"
   ]
  },
  {
   "cell_type": "code",
   "execution_count": 14,
   "metadata": {},
   "outputs": [
    {
     "data": {
      "text/plain": [
       "(False, False)"
      ]
     },
     "execution_count": 14,
     "metadata": {},
     "output_type": "execute_result"
    }
   ],
   "source": [
    "# Check if the Duplicates are removed\n",
    "all_08.duplicated().any(), all_18.duplicated().any()"
   ]
  },
  {
   "cell_type": "code",
   "execution_count": 15,
   "metadata": {},
   "outputs": [
    {
     "data": {
      "text/plain": [
       "((986, 13), (794, 13))"
      ]
     },
     "execution_count": 15,
     "metadata": {},
     "output_type": "execute_result"
    }
   ],
   "source": [
    "all_08.shape, all_18.shape"
   ]
  },
  {
   "cell_type": "markdown",
   "metadata": {},
   "source": [
    "## Save to CSV"
   ]
  },
  {
   "cell_type": "code",
   "execution_count": 16,
   "metadata": {},
   "outputs": [],
   "source": [
    "all_08.to_csv('./DataSet/all_alpha_08_filtered.csv', index=False)\n",
    "all_18.to_csv('./DataSet/all_alpha_18_filtered.csv', index=False)"
   ]
  }
 ],
 "metadata": {
  "kernelspec": {
   "display_name": "Python 3.10.4 64-bit",
   "language": "python",
   "name": "python3"
  },
  "language_info": {
   "codemirror_mode": {
    "name": "ipython",
    "version": 3
   },
   "file_extension": ".py",
   "mimetype": "text/x-python",
   "name": "python",
   "nbconvert_exporter": "python",
   "pygments_lexer": "ipython3",
   "version": "3.10.4"
  },
  "orig_nbformat": 4,
  "vscode": {
   "interpreter": {
    "hash": "1a7a615ec73484663a13fecb2eefad39ae64890e40ce2bb390ba619cec3fc581"
   }
  }
 },
 "nbformat": 4,
 "nbformat_minor": 2
}
