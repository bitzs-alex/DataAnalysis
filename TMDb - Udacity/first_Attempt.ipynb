{
 "cells": [
  {
   "cell_type": "markdown",
   "metadata": {},
   "source": [
    "## First Look to the Dataset"
   ]
  },
  {
   "cell_type": "code",
   "execution_count": 72,
   "metadata": {},
   "outputs": [],
   "source": [
    "import pandas as pd\n",
    "import matplotlib.pyplot as plt\n",
    "import seaborn as sns\n",
    "import numpy as np"
   ]
  },
  {
   "cell_type": "code",
   "execution_count": 73,
   "metadata": {},
   "outputs": [],
   "source": [
    "sns.set_style('darkgrid')"
   ]
  },
  {
   "cell_type": "markdown",
   "metadata": {},
   "source": [
    "## Table of Content\n",
    "  \n",
    "<ul>\n",
    "    <li>\n",
    "        <a href=\"#intro\">Introduction</a>\n",
    "        <ul>\n",
    "            <li><a href=\"#description\">Dataset Description</a></li>\n",
    "            <li><a href=\"#load\">Loading the Dataset</a></li>\n",
    "        </ul>\n",
    "    </li>\n",
    "    <li><a href=\"#questions\">Questions to Answer</a></li>\n",
    "    <li>\n",
    "        <a href=\"#wrangling\">Data Wrangling</a>\n",
    "        <ul>\n",
    "            <li><a href=\"#drop_columns\">Dropping Columns</a></li>\n",
    "            <li><a href=\"#drop_nulls\">Dropping Null Values</a></li>\n",
    "            <li><a href=\"#drop_duplicates\">Dropping Duplicates</a></li>\n",
    "            <li><a href=\"#changing_index\">Changing the `index` Column</a></li>\n",
    "            <li><a href=\"#cleaning_datatypes\">Cleaning Data Types</a></li>\n",
    "        </ul>\n",
    "    </li>\n",
    "    <li>\n",
    "        <a href=\"#eda\">EDA (Exploratory Data Analysis)</a>\n",
    "        <ul>\n",
    "            <li><a href=\"#replacing_zeros\">Replacing Zero Values</a></li>\n",
    "            <li><a href=\"#drop_zero_budget\">Dropping Zero Budget Values</a></li>\n",
    "        </ul>\n",
    "    </li>\n",
    "    <li>\n",
    "        <a href=\"#answering_questions\">Answering Questions</a>\n",
    "        <ul>\n",
    "            <li><a href=\"#popularity_questions\">Popularity Related Questions</a></li>\n",
    "            <li><a href=\"#director_questions\">Director Related Questions</a></li>\n",
    "            <li><a href=\"#runtime_questions\">Runtime Related Questions</a></li>\n",
    "            <li><a href=\"#genre_questions\">Genre Related Questions</a></li>\n",
    "            <li><a href=\"#company_questions\">Production Company Related Questions</a></li>\n",
    "            <li><a href=\"#budget_questions\">Budget and Revenue Related Questions</a></li>\n",
    "            <li><a href=\"#release_questions\">Released Year Related Questions</a></li>\n",
    "        </ul>\n",
    "    </li>\n",
    "</ul>"
   ]
  },
  {
   "cell_type": "markdown",
   "metadata": {},
   "source": [
    "<h2 id=\"intro\">Introduction</h2>"
   ]
  },
  {
   "cell_type": "markdown",
   "metadata": {},
   "source": [
    "<h3 id=\"description\">Dataset Description</h3>  \n",
    "  \n",
    "This is a dataset about movies collected from TMDb. Using this dataset we will analyze and find out what are the key features that lead to a commercial success or flop.\n",
    "\n",
    "> The dataset have the following attributes\n",
    ">   - **Data Points (Rows)**: 10806\n",
    ">   - **Columns**: 21\n",
    ">   - **Column Names**:       \n",
    ">        - id: Identification Number\n",
    ">        - imdb_id: IMDb Identification Number\n",
    ">        - popularity: Popularity in number\n",
    ">        - budget: Gross Budget\n",
    ">        - revenue: Gross Revenue\n",
    ">        - original_title: Title of the Movie\n",
    ">        - cast: Cast\n",
    ">        - homepage: Movie website homepage\n",
    ">        - director: The person who directed the movie\n",
    ">        - tagline: \n",
    ">        - keywords: \n",
    ">        - overview: Overview of the movie \n",
    ">        - runtime: How long the movie last\n",
    ">        - genres: What genres the movie belong to\n",
    ">        - production_companies: What are the companies produced the movie\n",
    ">        - release_date: The date the movie was released\n",
    ">        - vote_count: How many people voted for the movie\n",
    ">        - vote_average: The average vote rate our of 10\n",
    ">        - release_year: Released Year\n",
    ">        - budget_adj: Movie Budget including 2010 inflnation\n",
    ">        - revenue_adj': Movie Revenue including 2010 inflnation"
   ]
  },
  {
   "cell_type": "markdown",
   "metadata": {},
   "source": [
    "<h3 id=\"load\">Loading the Dataset</h3>"
   ]
  },
  {
   "cell_type": "code",
   "execution_count": 74,
   "metadata": {},
   "outputs": [
    {
     "data": {
      "text/html": [
       "<div>\n",
       "<style scoped>\n",
       "    .dataframe tbody tr th:only-of-type {\n",
       "        vertical-align: middle;\n",
       "    }\n",
       "\n",
       "    .dataframe tbody tr th {\n",
       "        vertical-align: top;\n",
       "    }\n",
       "\n",
       "    .dataframe thead th {\n",
       "        text-align: right;\n",
       "    }\n",
       "</style>\n",
       "<table border=\"1\" class=\"dataframe\">\n",
       "  <thead>\n",
       "    <tr style=\"text-align: right;\">\n",
       "      <th></th>\n",
       "      <th>id</th>\n",
       "      <th>imdb_id</th>\n",
       "      <th>popularity</th>\n",
       "      <th>budget</th>\n",
       "      <th>revenue</th>\n",
       "      <th>original_title</th>\n",
       "      <th>cast</th>\n",
       "      <th>homepage</th>\n",
       "      <th>director</th>\n",
       "      <th>tagline</th>\n",
       "      <th>...</th>\n",
       "      <th>overview</th>\n",
       "      <th>runtime</th>\n",
       "      <th>genres</th>\n",
       "      <th>production_companies</th>\n",
       "      <th>release_date</th>\n",
       "      <th>vote_count</th>\n",
       "      <th>vote_average</th>\n",
       "      <th>release_year</th>\n",
       "      <th>budget_adj</th>\n",
       "      <th>revenue_adj</th>\n",
       "    </tr>\n",
       "  </thead>\n",
       "  <tbody>\n",
       "    <tr>\n",
       "      <th>0</th>\n",
       "      <td>135397</td>\n",
       "      <td>tt0369610</td>\n",
       "      <td>32.985763</td>\n",
       "      <td>150000000</td>\n",
       "      <td>1513528810</td>\n",
       "      <td>Jurassic World</td>\n",
       "      <td>Chris Pratt|Bryce Dallas Howard|Irrfan Khan|Vi...</td>\n",
       "      <td>http://www.jurassicworld.com/</td>\n",
       "      <td>Colin Trevorrow</td>\n",
       "      <td>The park is open.</td>\n",
       "      <td>...</td>\n",
       "      <td>Twenty-two years after the events of Jurassic ...</td>\n",
       "      <td>124</td>\n",
       "      <td>Action|Adventure|Science Fiction|Thriller</td>\n",
       "      <td>Universal Studios|Amblin Entertainment|Legenda...</td>\n",
       "      <td>6/9/15</td>\n",
       "      <td>5562</td>\n",
       "      <td>6.5</td>\n",
       "      <td>2015</td>\n",
       "      <td>1.379999e+08</td>\n",
       "      <td>1.392446e+09</td>\n",
       "    </tr>\n",
       "    <tr>\n",
       "      <th>1</th>\n",
       "      <td>76341</td>\n",
       "      <td>tt1392190</td>\n",
       "      <td>28.419936</td>\n",
       "      <td>150000000</td>\n",
       "      <td>378436354</td>\n",
       "      <td>Mad Max: Fury Road</td>\n",
       "      <td>Tom Hardy|Charlize Theron|Hugh Keays-Byrne|Nic...</td>\n",
       "      <td>http://www.madmaxmovie.com/</td>\n",
       "      <td>George Miller</td>\n",
       "      <td>What a Lovely Day.</td>\n",
       "      <td>...</td>\n",
       "      <td>An apocalyptic story set in the furthest reach...</td>\n",
       "      <td>120</td>\n",
       "      <td>Action|Adventure|Science Fiction|Thriller</td>\n",
       "      <td>Village Roadshow Pictures|Kennedy Miller Produ...</td>\n",
       "      <td>5/13/15</td>\n",
       "      <td>6185</td>\n",
       "      <td>7.1</td>\n",
       "      <td>2015</td>\n",
       "      <td>1.379999e+08</td>\n",
       "      <td>3.481613e+08</td>\n",
       "    </tr>\n",
       "    <tr>\n",
       "      <th>2</th>\n",
       "      <td>262500</td>\n",
       "      <td>tt2908446</td>\n",
       "      <td>13.112507</td>\n",
       "      <td>110000000</td>\n",
       "      <td>295238201</td>\n",
       "      <td>Insurgent</td>\n",
       "      <td>Shailene Woodley|Theo James|Kate Winslet|Ansel...</td>\n",
       "      <td>http://www.thedivergentseries.movie/#insurgent</td>\n",
       "      <td>Robert Schwentke</td>\n",
       "      <td>One Choice Can Destroy You</td>\n",
       "      <td>...</td>\n",
       "      <td>Beatrice Prior must confront her inner demons ...</td>\n",
       "      <td>119</td>\n",
       "      <td>Adventure|Science Fiction|Thriller</td>\n",
       "      <td>Summit Entertainment|Mandeville Films|Red Wago...</td>\n",
       "      <td>3/18/15</td>\n",
       "      <td>2480</td>\n",
       "      <td>6.3</td>\n",
       "      <td>2015</td>\n",
       "      <td>1.012000e+08</td>\n",
       "      <td>2.716190e+08</td>\n",
       "    </tr>\n",
       "  </tbody>\n",
       "</table>\n",
       "<p>3 rows × 21 columns</p>\n",
       "</div>"
      ],
      "text/plain": [
       "       id    imdb_id  popularity     budget     revenue      original_title  \\\n",
       "0  135397  tt0369610   32.985763  150000000  1513528810      Jurassic World   \n",
       "1   76341  tt1392190   28.419936  150000000   378436354  Mad Max: Fury Road   \n",
       "2  262500  tt2908446   13.112507  110000000   295238201           Insurgent   \n",
       "\n",
       "                                                cast  \\\n",
       "0  Chris Pratt|Bryce Dallas Howard|Irrfan Khan|Vi...   \n",
       "1  Tom Hardy|Charlize Theron|Hugh Keays-Byrne|Nic...   \n",
       "2  Shailene Woodley|Theo James|Kate Winslet|Ansel...   \n",
       "\n",
       "                                         homepage          director  \\\n",
       "0                   http://www.jurassicworld.com/   Colin Trevorrow   \n",
       "1                     http://www.madmaxmovie.com/     George Miller   \n",
       "2  http://www.thedivergentseries.movie/#insurgent  Robert Schwentke   \n",
       "\n",
       "                      tagline  ...  \\\n",
       "0           The park is open.  ...   \n",
       "1          What a Lovely Day.  ...   \n",
       "2  One Choice Can Destroy You  ...   \n",
       "\n",
       "                                            overview runtime  \\\n",
       "0  Twenty-two years after the events of Jurassic ...     124   \n",
       "1  An apocalyptic story set in the furthest reach...     120   \n",
       "2  Beatrice Prior must confront her inner demons ...     119   \n",
       "\n",
       "                                      genres  \\\n",
       "0  Action|Adventure|Science Fiction|Thriller   \n",
       "1  Action|Adventure|Science Fiction|Thriller   \n",
       "2         Adventure|Science Fiction|Thriller   \n",
       "\n",
       "                                production_companies release_date vote_count  \\\n",
       "0  Universal Studios|Amblin Entertainment|Legenda...       6/9/15       5562   \n",
       "1  Village Roadshow Pictures|Kennedy Miller Produ...      5/13/15       6185   \n",
       "2  Summit Entertainment|Mandeville Films|Red Wago...      3/18/15       2480   \n",
       "\n",
       "   vote_average  release_year    budget_adj   revenue_adj  \n",
       "0           6.5          2015  1.379999e+08  1.392446e+09  \n",
       "1           7.1          2015  1.379999e+08  3.481613e+08  \n",
       "2           6.3          2015  1.012000e+08  2.716190e+08  \n",
       "\n",
       "[3 rows x 21 columns]"
      ]
     },
     "execution_count": 74,
     "metadata": {},
     "output_type": "execute_result"
    }
   ],
   "source": [
    "tmdb = pd.read_csv(\"./Datasets/tmdb-movies.csv\", sep=\",\", parse_dates=True)\n",
    "tmdb.head(3)"
   ]
  },
  {
   "cell_type": "code",
   "execution_count": 75,
   "metadata": {},
   "outputs": [
    {
     "data": {
      "text/plain": [
       "(10866, 21)"
      ]
     },
     "execution_count": 75,
     "metadata": {},
     "output_type": "execute_result"
    }
   ],
   "source": [
    "tmdb.shape"
   ]
  },
  {
   "cell_type": "code",
   "execution_count": 76,
   "metadata": {},
   "outputs": [
    {
     "data": {
      "text/plain": [
       "Index(['id', 'imdb_id', 'popularity', 'budget', 'revenue', 'original_title',\n",
       "       'cast', 'homepage', 'director', 'tagline', 'keywords', 'overview',\n",
       "       'runtime', 'genres', 'production_companies', 'release_date',\n",
       "       'vote_count', 'vote_average', 'release_year', 'budget_adj',\n",
       "       'revenue_adj'],\n",
       "      dtype='object')"
      ]
     },
     "execution_count": 76,
     "metadata": {},
     "output_type": "execute_result"
    }
   ],
   "source": [
    "tmdb.columns"
   ]
  },
  {
   "cell_type": "markdown",
   "metadata": {},
   "source": [
    "<h2 id=\"questions\">Questions to Answer</h2>"
   ]
  },
  {
   "cell_type": "markdown",
   "metadata": {},
   "source": [
    "Using the above loaded data, I will try to answer the following listed Questions.  \n",
    "I categorized questions about a specific column to fall under the same column. "
   ]
  },
  {
   "cell_type": "markdown",
   "metadata": {},
   "source": [
    "- **Popularity**\n",
    "  1. Are the most popular movies a commercial success? What is the ratio?\n",
    "  2. Which movies are commercially successful but not popular?\n",
    "  3. Which movies have the highest `popularity` vs `vote_count` ratio??\n",
    "  \n",
    "- **Budget and Revenue**\n",
    "  1. What is the average budget for both commercial successful as well as flopped movies?\n",
    "  1. How much percent of the Movies are Commercially successful as well as Flopped?\n",
    "  2. What are the features associated with high revenue?\n",
    "      - What are their relationship with Production Company, Budget, Director, and Cast features?\n",
    "  3. Does having more budget mean getting more popularity?\n",
    "  4. What are the movies that got high revenue proportion to their budget?\n",
    "  5. Does the `budget` and `revenue` growing over the years?\n",
    "  \n",
    "- **Director**\n",
    "  1. Who is the most popular Director?\n",
    "      - How many movies he/she directed?\n",
    "      - What are his/her top 5 commercially successful and flopped movies?\n",
    "      - What year was his/her most popular movie released?\n",
    "  2. How many movies he/she directed per year?\n",
    "      - What are the proportions of their success and flop?\n",
    "  \n",
    "- **Runtime**\n",
    "  1. What is the runtime for most popular movies and flopped ones?\n",
    "  2. Which movies got high revenue as compared to the same runtime movies?\n",
    "  3. Which runtime got a better rate?\n",
    "  4. Average runtime of movies each year?\n",
    "  5. What is runtime's average popularity rate?\n",
    "  \n",
    "- **Genre**\n",
    "  1. Which genres are most popular?\n",
    "  2. Which genres are more successful and flopped?\n",
    "  3. What is genre's average vote rate?\n",
    "  4. What genre is popular each year?\n",
    "  5. How many the same genre movies released each year?\n",
    "  \n",
    "- **Production Company**\n",
    "  1. Which production companies are most popular?\n",
    "  2. What are the proportion of successful and flopped movies produced?\n",
    "  3. How many movies a production company produce per year?\n",
    "  \n",
    "- **Released Year**\n",
    "  1. What year was the most successful year in the movie industry?\n",
    "      - How many successful movies got released that year?\n",
    "      - What was their average budget?\n",
    "  2. What year was the most unsuccessful year in the movie industry?\n",
    "      - How many flopped movies got released that year?\n",
    "  4. Which year has the highest release of movies?\n",
    "      - Which month has the highest release of movies \n",
    "  5. Which month has the highest release of movies in all of the years?\n",
    "  6. Which month Made The Highest Average Revenue?\n",
    "  7. What is the proportion of popularity for each year?\n",
    "  8. Which year has the highest ratio of popular movies?"
   ]
  },
  {
   "cell_type": "markdown",
   "metadata": {},
   "source": [
    "<h2 id=\"wrangling\">Data Wrangling</h2>\n",
    "  \n",
    "Before we cleaned up anything, let's first explore what columns contain Null values, what are duplicated rows"
   ]
  },
  {
   "cell_type": "code",
   "execution_count": 77,
   "metadata": {},
   "outputs": [
    {
     "data": {
      "text/plain": [
       "id                         0\n",
       "imdb_id                   10\n",
       "popularity                 0\n",
       "budget                     0\n",
       "revenue                    0\n",
       "original_title             0\n",
       "cast                      76\n",
       "homepage                7930\n",
       "director                  44\n",
       "tagline                 2824\n",
       "keywords                1493\n",
       "overview                   4\n",
       "runtime                    0\n",
       "genres                    23\n",
       "production_companies    1030\n",
       "release_date               0\n",
       "vote_count                 0\n",
       "vote_average               0\n",
       "release_year               0\n",
       "budget_adj                 0\n",
       "revenue_adj                0\n",
       "dtype: int64"
      ]
     },
     "execution_count": 77,
     "metadata": {},
     "output_type": "execute_result"
    }
   ],
   "source": [
    "tmdb.isna().sum()"
   ]
  },
  {
   "cell_type": "markdown",
   "metadata": {},
   "source": [
    "<h3 id=\"drop_columns\">Dropping Columns</h3>"
   ]
  },
  {
   "cell_type": "markdown",
   "metadata": {},
   "source": [
    "From above there are a lot of columns with null values but we don't need all of the columns for our analysis. That means we can drop them.  \n",
    "  \n",
    "Let's drop the columns: `homepage`, `tagline`, `keywords`, `imdb_id`, `overview`, `budget_adj`, `revenue_adj`"
   ]
  },
  {
   "cell_type": "code",
   "execution_count": 78,
   "metadata": {},
   "outputs": [
    {
     "data": {
      "text/html": [
       "<div>\n",
       "<style scoped>\n",
       "    .dataframe tbody tr th:only-of-type {\n",
       "        vertical-align: middle;\n",
       "    }\n",
       "\n",
       "    .dataframe tbody tr th {\n",
       "        vertical-align: top;\n",
       "    }\n",
       "\n",
       "    .dataframe thead th {\n",
       "        text-align: right;\n",
       "    }\n",
       "</style>\n",
       "<table border=\"1\" class=\"dataframe\">\n",
       "  <thead>\n",
       "    <tr style=\"text-align: right;\">\n",
       "      <th></th>\n",
       "      <th>id</th>\n",
       "      <th>popularity</th>\n",
       "      <th>budget</th>\n",
       "      <th>revenue</th>\n",
       "      <th>original_title</th>\n",
       "      <th>cast</th>\n",
       "      <th>director</th>\n",
       "      <th>runtime</th>\n",
       "      <th>genres</th>\n",
       "      <th>production_companies</th>\n",
       "      <th>release_date</th>\n",
       "      <th>vote_count</th>\n",
       "      <th>vote_average</th>\n",
       "      <th>release_year</th>\n",
       "    </tr>\n",
       "  </thead>\n",
       "  <tbody>\n",
       "    <tr>\n",
       "      <th>0</th>\n",
       "      <td>135397</td>\n",
       "      <td>32.985763</td>\n",
       "      <td>150000000</td>\n",
       "      <td>1513528810</td>\n",
       "      <td>Jurassic World</td>\n",
       "      <td>Chris Pratt|Bryce Dallas Howard|Irrfan Khan|Vi...</td>\n",
       "      <td>Colin Trevorrow</td>\n",
       "      <td>124</td>\n",
       "      <td>Action|Adventure|Science Fiction|Thriller</td>\n",
       "      <td>Universal Studios|Amblin Entertainment|Legenda...</td>\n",
       "      <td>6/9/15</td>\n",
       "      <td>5562</td>\n",
       "      <td>6.5</td>\n",
       "      <td>2015</td>\n",
       "    </tr>\n",
       "    <tr>\n",
       "      <th>1</th>\n",
       "      <td>76341</td>\n",
       "      <td>28.419936</td>\n",
       "      <td>150000000</td>\n",
       "      <td>378436354</td>\n",
       "      <td>Mad Max: Fury Road</td>\n",
       "      <td>Tom Hardy|Charlize Theron|Hugh Keays-Byrne|Nic...</td>\n",
       "      <td>George Miller</td>\n",
       "      <td>120</td>\n",
       "      <td>Action|Adventure|Science Fiction|Thriller</td>\n",
       "      <td>Village Roadshow Pictures|Kennedy Miller Produ...</td>\n",
       "      <td>5/13/15</td>\n",
       "      <td>6185</td>\n",
       "      <td>7.1</td>\n",
       "      <td>2015</td>\n",
       "    </tr>\n",
       "    <tr>\n",
       "      <th>2</th>\n",
       "      <td>262500</td>\n",
       "      <td>13.112507</td>\n",
       "      <td>110000000</td>\n",
       "      <td>295238201</td>\n",
       "      <td>Insurgent</td>\n",
       "      <td>Shailene Woodley|Theo James|Kate Winslet|Ansel...</td>\n",
       "      <td>Robert Schwentke</td>\n",
       "      <td>119</td>\n",
       "      <td>Adventure|Science Fiction|Thriller</td>\n",
       "      <td>Summit Entertainment|Mandeville Films|Red Wago...</td>\n",
       "      <td>3/18/15</td>\n",
       "      <td>2480</td>\n",
       "      <td>6.3</td>\n",
       "      <td>2015</td>\n",
       "    </tr>\n",
       "  </tbody>\n",
       "</table>\n",
       "</div>"
      ],
      "text/plain": [
       "       id  popularity     budget     revenue      original_title  \\\n",
       "0  135397   32.985763  150000000  1513528810      Jurassic World   \n",
       "1   76341   28.419936  150000000   378436354  Mad Max: Fury Road   \n",
       "2  262500   13.112507  110000000   295238201           Insurgent   \n",
       "\n",
       "                                                cast          director  \\\n",
       "0  Chris Pratt|Bryce Dallas Howard|Irrfan Khan|Vi...   Colin Trevorrow   \n",
       "1  Tom Hardy|Charlize Theron|Hugh Keays-Byrne|Nic...     George Miller   \n",
       "2  Shailene Woodley|Theo James|Kate Winslet|Ansel...  Robert Schwentke   \n",
       "\n",
       "   runtime                                     genres  \\\n",
       "0      124  Action|Adventure|Science Fiction|Thriller   \n",
       "1      120  Action|Adventure|Science Fiction|Thriller   \n",
       "2      119         Adventure|Science Fiction|Thriller   \n",
       "\n",
       "                                production_companies release_date  vote_count  \\\n",
       "0  Universal Studios|Amblin Entertainment|Legenda...       6/9/15        5562   \n",
       "1  Village Roadshow Pictures|Kennedy Miller Produ...      5/13/15        6185   \n",
       "2  Summit Entertainment|Mandeville Films|Red Wago...      3/18/15        2480   \n",
       "\n",
       "   vote_average  release_year  \n",
       "0           6.5          2015  \n",
       "1           7.1          2015  \n",
       "2           6.3          2015  "
      ]
     },
     "execution_count": 78,
     "metadata": {},
     "output_type": "execute_result"
    }
   ],
   "source": [
    "tmdb.drop(columns=['imdb_id', 'homepage', 'tagline', 'keywords', 'overview', 'budget_adj', 'revenue_adj'], inplace=True)\n",
    "tmdb.head(3)"
   ]
  },
  {
   "cell_type": "markdown",
   "metadata": {},
   "source": [
    "<h3 id=\"drop_nulls\">Dropping Null Values</h3>"
   ]
  },
  {
   "cell_type": "markdown",
   "metadata": {},
   "source": [
    "Let's drop a data point with any `Null` value."
   ]
  },
  {
   "cell_type": "code",
   "execution_count": 79,
   "metadata": {},
   "outputs": [
    {
     "data": {
      "text/plain": [
       "(9773, 14)"
      ]
     },
     "execution_count": 79,
     "metadata": {},
     "output_type": "execute_result"
    }
   ],
   "source": [
    "tmdb.dropna(axis=0, inplace=True)\n",
    "tmdb.shape"
   ]
  },
  {
   "cell_type": "markdown",
   "metadata": {},
   "source": [
    "Let's check for null values again"
   ]
  },
  {
   "cell_type": "code",
   "execution_count": 80,
   "metadata": {},
   "outputs": [
    {
     "data": {
      "text/plain": [
       "id                      0\n",
       "popularity              0\n",
       "budget                  0\n",
       "revenue                 0\n",
       "original_title          0\n",
       "cast                    0\n",
       "director                0\n",
       "runtime                 0\n",
       "genres                  0\n",
       "production_companies    0\n",
       "release_date            0\n",
       "vote_count              0\n",
       "vote_average            0\n",
       "release_year            0\n",
       "dtype: int64"
      ]
     },
     "execution_count": 80,
     "metadata": {},
     "output_type": "execute_result"
    }
   ],
   "source": [
    "tmdb.isna().sum()"
   ]
  },
  {
   "cell_type": "markdown",
   "metadata": {},
   "source": [
    "<h3 id=\"drop_duplicates\">Dropping Duplicates</h3>"
   ]
  },
  {
   "cell_type": "markdown",
   "metadata": {},
   "source": [
    "Let's look for how many duplicates we have in our dataset."
   ]
  },
  {
   "cell_type": "code",
   "execution_count": 81,
   "metadata": {},
   "outputs": [
    {
     "data": {
      "text/plain": [
       "1"
      ]
     },
     "execution_count": 81,
     "metadata": {},
     "output_type": "execute_result"
    }
   ],
   "source": [
    "tmdb.duplicated().sum()"
   ]
  },
  {
   "cell_type": "markdown",
   "metadata": {},
   "source": [
    "Let' take a glance look at the duplicated data points to find out if they need to be dropped or keep them."
   ]
  },
  {
   "cell_type": "code",
   "execution_count": 82,
   "metadata": {},
   "outputs": [
    {
     "data": {
      "text/html": [
       "<div>\n",
       "<style scoped>\n",
       "    .dataframe tbody tr th:only-of-type {\n",
       "        vertical-align: middle;\n",
       "    }\n",
       "\n",
       "    .dataframe tbody tr th {\n",
       "        vertical-align: top;\n",
       "    }\n",
       "\n",
       "    .dataframe thead th {\n",
       "        text-align: right;\n",
       "    }\n",
       "</style>\n",
       "<table border=\"1\" class=\"dataframe\">\n",
       "  <thead>\n",
       "    <tr style=\"text-align: right;\">\n",
       "      <th></th>\n",
       "      <th>id</th>\n",
       "      <th>popularity</th>\n",
       "      <th>budget</th>\n",
       "      <th>revenue</th>\n",
       "      <th>original_title</th>\n",
       "      <th>cast</th>\n",
       "      <th>director</th>\n",
       "      <th>runtime</th>\n",
       "      <th>genres</th>\n",
       "      <th>production_companies</th>\n",
       "      <th>release_date</th>\n",
       "      <th>vote_count</th>\n",
       "      <th>vote_average</th>\n",
       "      <th>release_year</th>\n",
       "    </tr>\n",
       "  </thead>\n",
       "  <tbody>\n",
       "    <tr>\n",
       "      <th>2089</th>\n",
       "      <td>42194</td>\n",
       "      <td>0.59643</td>\n",
       "      <td>30000000</td>\n",
       "      <td>967000</td>\n",
       "      <td>TEKKEN</td>\n",
       "      <td>Jon Foo|Kelly Overton|Cary-Hiroyuki Tagawa|Ian...</td>\n",
       "      <td>Dwight H. Little</td>\n",
       "      <td>92</td>\n",
       "      <td>Crime|Drama|Action|Thriller|Science Fiction</td>\n",
       "      <td>Namco|Light Song Films</td>\n",
       "      <td>3/20/10</td>\n",
       "      <td>110</td>\n",
       "      <td>5.0</td>\n",
       "      <td>2010</td>\n",
       "    </tr>\n",
       "    <tr>\n",
       "      <th>2090</th>\n",
       "      <td>42194</td>\n",
       "      <td>0.59643</td>\n",
       "      <td>30000000</td>\n",
       "      <td>967000</td>\n",
       "      <td>TEKKEN</td>\n",
       "      <td>Jon Foo|Kelly Overton|Cary-Hiroyuki Tagawa|Ian...</td>\n",
       "      <td>Dwight H. Little</td>\n",
       "      <td>92</td>\n",
       "      <td>Crime|Drama|Action|Thriller|Science Fiction</td>\n",
       "      <td>Namco|Light Song Films</td>\n",
       "      <td>3/20/10</td>\n",
       "      <td>110</td>\n",
       "      <td>5.0</td>\n",
       "      <td>2010</td>\n",
       "    </tr>\n",
       "  </tbody>\n",
       "</table>\n",
       "</div>"
      ],
      "text/plain": [
       "         id  popularity    budget  revenue original_title  \\\n",
       "2089  42194     0.59643  30000000   967000         TEKKEN   \n",
       "2090  42194     0.59643  30000000   967000         TEKKEN   \n",
       "\n",
       "                                                   cast          director  \\\n",
       "2089  Jon Foo|Kelly Overton|Cary-Hiroyuki Tagawa|Ian...  Dwight H. Little   \n",
       "2090  Jon Foo|Kelly Overton|Cary-Hiroyuki Tagawa|Ian...  Dwight H. Little   \n",
       "\n",
       "      runtime                                       genres  \\\n",
       "2089       92  Crime|Drama|Action|Thriller|Science Fiction   \n",
       "2090       92  Crime|Drama|Action|Thriller|Science Fiction   \n",
       "\n",
       "        production_companies release_date  vote_count  vote_average  \\\n",
       "2089  Namco|Light Song Films      3/20/10         110           5.0   \n",
       "2090  Namco|Light Song Films      3/20/10         110           5.0   \n",
       "\n",
       "      release_year  \n",
       "2089          2010  \n",
       "2090          2010  "
      ]
     },
     "execution_count": 82,
     "metadata": {},
     "output_type": "execute_result"
    }
   ],
   "source": [
    "tmdb[tmdb.duplicated(keep=False)]"
   ]
  },
  {
   "cell_type": "markdown",
   "metadata": {},
   "source": [
    "Because it is just one data point and the same duplicate, let's drop it."
   ]
  },
  {
   "cell_type": "code",
   "execution_count": 83,
   "metadata": {},
   "outputs": [],
   "source": [
    "tmdb.drop_duplicates(inplace=True)"
   ]
  },
  {
   "cell_type": "markdown",
   "metadata": {},
   "source": [
    "Let's check if there aren't any duplicates"
   ]
  },
  {
   "cell_type": "code",
   "execution_count": 84,
   "metadata": {},
   "outputs": [
    {
     "data": {
      "text/plain": [
       "0"
      ]
     },
     "execution_count": 84,
     "metadata": {},
     "output_type": "execute_result"
    }
   ],
   "source": [
    "tmdb.duplicated().sum()"
   ]
  },
  {
   "cell_type": "markdown",
   "metadata": {},
   "source": [
    "<h3 id=\"changing_index\">Changing the Index Column</h3>"
   ]
  },
  {
   "cell_type": "markdown",
   "metadata": {},
   "source": [
    "Let's set `id` column as index"
   ]
  },
  {
   "cell_type": "code",
   "execution_count": 85,
   "metadata": {},
   "outputs": [],
   "source": [
    "tmdb.set_index('id', inplace=True)"
   ]
  },
  {
   "cell_type": "markdown",
   "metadata": {},
   "source": [
    "<h3 id=\"cleaning_datatypes\">Cleaning Data Types</h3>"
   ]
  },
  {
   "cell_type": "markdown",
   "metadata": {},
   "source": [
    "In this section, we will take a look at the datatypes of each column. If there are columns we should change to other types, we will do so. For example, `released_date` column  \n",
    "  \n",
    "We will also change the format of some columns. For example, the `popularity` column is in millions but the `vote_count` is in thousands which doesn't make sense if we were to consider vote count distribution over popularity."
   ]
  },
  {
   "cell_type": "code",
   "execution_count": 86,
   "metadata": {},
   "outputs": [
    {
     "data": {
      "text/plain": [
       "popularity              float64\n",
       "budget                    int64\n",
       "revenue                   int64\n",
       "original_title           object\n",
       "cast                     object\n",
       "director                 object\n",
       "runtime                   int64\n",
       "genres                   object\n",
       "production_companies     object\n",
       "release_date             object\n",
       "vote_count                int64\n",
       "vote_average            float64\n",
       "release_year              int64\n",
       "dtype: object"
      ]
     },
     "execution_count": 86,
     "metadata": {},
     "output_type": "execute_result"
    }
   ],
   "source": [
    "tmdb.dtypes"
   ]
  },
  {
   "cell_type": "markdown",
   "metadata": {},
   "source": [
    "Let's change `released_date` datatype from `object` to `datetime`   \n",
    "  \n",
    "Since any programming language starting point in time and date is `1971`, we need to replace the year part in `released_date` by `released_year`.  \n",
    "If we don't replace them `12/3/60` will be converted to `2060-03-12` instead of being `1996-03-12`"
   ]
  },
  {
   "cell_type": "code",
   "execution_count": 87,
   "metadata": {},
   "outputs": [],
   "source": [
    "# Replace the year part with the `release_year` column\n",
    "tmdb.release_date = tmdb.apply(lambda x: x.release_date[:-2] + str(x.release_year), axis=1)\n",
    "\n",
    "# Converting the datatype\n",
    "tmdb.release_date = pd.to_datetime(tmdb.release_date)"
   ]
  },
  {
   "cell_type": "markdown",
   "metadata": {},
   "source": [
    "Let's change the `vote_count` column to millions"
   ]
  },
  {
   "cell_type": "code",
   "execution_count": 88,
   "metadata": {},
   "outputs": [],
   "source": [
    "tmdb.vote_count = tmdb.vote_count / 1000000"
   ]
  },
  {
   "cell_type": "markdown",
   "metadata": {},
   "source": [
    "Final check"
   ]
  },
  {
   "cell_type": "code",
   "execution_count": 89,
   "metadata": {},
   "outputs": [
    {
     "data": {
      "text/plain": [
       "popularity                     float64\n",
       "budget                           int64\n",
       "revenue                          int64\n",
       "original_title                  object\n",
       "cast                            object\n",
       "director                        object\n",
       "runtime                          int64\n",
       "genres                          object\n",
       "production_companies            object\n",
       "release_date            datetime64[ns]\n",
       "vote_count                     float64\n",
       "vote_average                   float64\n",
       "release_year                     int64\n",
       "dtype: object"
      ]
     },
     "execution_count": 89,
     "metadata": {},
     "output_type": "execute_result"
    }
   ],
   "source": [
    "tmdb.dtypes"
   ]
  },
  {
   "cell_type": "markdown",
   "metadata": {},
   "source": [
    "<h2 id=\"eda\">EDA (Exploratory Data Analysis)</h2>"
   ]
  },
  {
   "cell_type": "markdown",
   "metadata": {},
   "source": [
    "In this section, we will ask question from our <a href=\"#questions\">question pool</a> and give an answer through EDA then we will visualize them.  \n",
    "  \n",
    "Let's take a general look at our dataset if it is ready to be processed"
   ]
  },
  {
   "cell_type": "code",
   "execution_count": 90,
   "metadata": {},
   "outputs": [
    {
     "data": {
      "text/html": [
       "<div>\n",
       "<style scoped>\n",
       "    .dataframe tbody tr th:only-of-type {\n",
       "        vertical-align: middle;\n",
       "    }\n",
       "\n",
       "    .dataframe tbody tr th {\n",
       "        vertical-align: top;\n",
       "    }\n",
       "\n",
       "    .dataframe thead th {\n",
       "        text-align: right;\n",
       "    }\n",
       "</style>\n",
       "<table border=\"1\" class=\"dataframe\">\n",
       "  <thead>\n",
       "    <tr style=\"text-align: right;\">\n",
       "      <th></th>\n",
       "      <th>popularity</th>\n",
       "      <th>budget</th>\n",
       "      <th>revenue</th>\n",
       "      <th>runtime</th>\n",
       "      <th>vote_count</th>\n",
       "      <th>vote_average</th>\n",
       "      <th>release_year</th>\n",
       "    </tr>\n",
       "  </thead>\n",
       "  <tbody>\n",
       "    <tr>\n",
       "      <th>count</th>\n",
       "      <td>9772.000000</td>\n",
       "      <td>9.772000e+03</td>\n",
       "      <td>9.772000e+03</td>\n",
       "      <td>9772.000000</td>\n",
       "      <td>9772.000000</td>\n",
       "      <td>9772.000000</td>\n",
       "      <td>9772.000000</td>\n",
       "    </tr>\n",
       "    <tr>\n",
       "      <th>mean</th>\n",
       "      <td>0.694721</td>\n",
       "      <td>1.617967e+07</td>\n",
       "      <td>4.423121e+07</td>\n",
       "      <td>102.926627</td>\n",
       "      <td>0.000239</td>\n",
       "      <td>5.963528</td>\n",
       "      <td>2000.878428</td>\n",
       "    </tr>\n",
       "    <tr>\n",
       "      <th>std</th>\n",
       "      <td>1.036931</td>\n",
       "      <td>3.221074e+07</td>\n",
       "      <td>1.225889e+08</td>\n",
       "      <td>27.877432</td>\n",
       "      <td>0.000603</td>\n",
       "      <td>0.913174</td>\n",
       "      <td>13.036794</td>\n",
       "    </tr>\n",
       "    <tr>\n",
       "      <th>min</th>\n",
       "      <td>0.000188</td>\n",
       "      <td>0.000000e+00</td>\n",
       "      <td>0.000000e+00</td>\n",
       "      <td>0.000000</td>\n",
       "      <td>0.000010</td>\n",
       "      <td>1.500000</td>\n",
       "      <td>1960.000000</td>\n",
       "    </tr>\n",
       "    <tr>\n",
       "      <th>25%</th>\n",
       "      <td>0.232710</td>\n",
       "      <td>0.000000e+00</td>\n",
       "      <td>0.000000e+00</td>\n",
       "      <td>90.000000</td>\n",
       "      <td>0.000018</td>\n",
       "      <td>5.400000</td>\n",
       "      <td>1994.000000</td>\n",
       "    </tr>\n",
       "    <tr>\n",
       "      <th>50%</th>\n",
       "      <td>0.419762</td>\n",
       "      <td>2.000000e+05</td>\n",
       "      <td>0.000000e+00</td>\n",
       "      <td>100.000000</td>\n",
       "      <td>0.000046</td>\n",
       "      <td>6.000000</td>\n",
       "      <td>2005.000000</td>\n",
       "    </tr>\n",
       "    <tr>\n",
       "      <th>75%</th>\n",
       "      <td>0.776408</td>\n",
       "      <td>1.928750e+07</td>\n",
       "      <td>3.104729e+07</td>\n",
       "      <td>112.000000</td>\n",
       "      <td>0.000173</td>\n",
       "      <td>6.600000</td>\n",
       "      <td>2011.000000</td>\n",
       "    </tr>\n",
       "    <tr>\n",
       "      <th>max</th>\n",
       "      <td>32.985763</td>\n",
       "      <td>4.250000e+08</td>\n",
       "      <td>2.781506e+09</td>\n",
       "      <td>877.000000</td>\n",
       "      <td>0.009767</td>\n",
       "      <td>8.700000</td>\n",
       "      <td>2015.000000</td>\n",
       "    </tr>\n",
       "  </tbody>\n",
       "</table>\n",
       "</div>"
      ],
      "text/plain": [
       "        popularity        budget       revenue      runtime   vote_count  \\\n",
       "count  9772.000000  9.772000e+03  9.772000e+03  9772.000000  9772.000000   \n",
       "mean      0.694721  1.617967e+07  4.423121e+07   102.926627     0.000239   \n",
       "std       1.036931  3.221074e+07  1.225889e+08    27.877432     0.000603   \n",
       "min       0.000188  0.000000e+00  0.000000e+00     0.000000     0.000010   \n",
       "25%       0.232710  0.000000e+00  0.000000e+00    90.000000     0.000018   \n",
       "50%       0.419762  2.000000e+05  0.000000e+00   100.000000     0.000046   \n",
       "75%       0.776408  1.928750e+07  3.104729e+07   112.000000     0.000173   \n",
       "max      32.985763  4.250000e+08  2.781506e+09   877.000000     0.009767   \n",
       "\n",
       "       vote_average  release_year  \n",
       "count   9772.000000   9772.000000  \n",
       "mean       5.963528   2000.878428  \n",
       "std        0.913174     13.036794  \n",
       "min        1.500000   1960.000000  \n",
       "25%        5.400000   1994.000000  \n",
       "50%        6.000000   2005.000000  \n",
       "75%        6.600000   2011.000000  \n",
       "max        8.700000   2015.000000  "
      ]
     },
     "execution_count": 90,
     "metadata": {},
     "output_type": "execute_result"
    }
   ],
   "source": [
    "tmdb.describe()"
   ]
  },
  {
   "cell_type": "markdown",
   "metadata": {},
   "source": [
    "The above description clearly shows us there are missing (Not Null but 0) values for `budget`, `revenue`, and `runtime`.  \n",
    "Let's take a look how many of them have a value of 0."
   ]
  },
  {
   "cell_type": "code",
   "execution_count": 91,
   "metadata": {},
   "outputs": [
    {
     "data": {
      "text/plain": [
       "budget     4751\n",
       "revenue    5022\n",
       "runtime      13\n",
       "dtype: int64"
      ]
     },
     "execution_count": 91,
     "metadata": {},
     "output_type": "execute_result"
    }
   ],
   "source": [
    "tmdb[['budget', 'revenue', 'runtime']].apply(lambda x: x == 0).sum()"
   ]
  },
  {
   "cell_type": "markdown",
   "metadata": {},
   "source": [
    "Dropping the data points having `0` value for the `runtime` might not bring a damage to our dataset but the others do.  \n",
    "If we drop them we lose a huge amount of data from our dataset. So, let's fill them with their `mean`.  \n",
    "To make it the distribution fair, we fill the values by the `mean` of their respective `released_year`.  \n",
    "  \n",
    "Before we do that, let's check whether the `budget` column has a `0` value mean the `revenue` value is `0` or not"
   ]
  },
  {
   "cell_type": "code",
   "execution_count": 92,
   "metadata": {},
   "outputs": [
    {
     "data": {
      "text/plain": [
       "(3806, 13)"
      ]
     },
     "execution_count": 92,
     "metadata": {},
     "output_type": "execute_result"
    }
   ],
   "source": [
    "tmdb[(tmdb.budget == 0) & (tmdb.revenue == 0)].shape"
   ]
  },
  {
   "cell_type": "code",
   "execution_count": 93,
   "metadata": {},
   "outputs": [
    {
     "data": {
      "text/plain": [
       "(1216, 13)"
      ]
     },
     "execution_count": 93,
     "metadata": {},
     "output_type": "execute_result"
    }
   ],
   "source": [
    "tmdb[(tmdb.budget != 0) & (tmdb.revenue == 0)].shape"
   ]
  },
  {
   "cell_type": "markdown",
   "metadata": {},
   "source": [
    "From the above codes, we understand \"if a `budget` column is `0` the `revenue` column will also be `0`\"."
   ]
  },
  {
   "cell_type": "markdown",
   "metadata": {},
   "source": [
    "<h3 id=\"replacing_zeros\">Replacing Zero Values</h4>"
   ]
  },
  {
   "cell_type": "markdown",
   "metadata": {},
   "source": [
    "It's time to replace the zero values by their respective `release_year` column `mean` values.  "
   ]
  },
  {
   "cell_type": "markdown",
   "metadata": {},
   "source": [
    "Let's first replace the values for `budget`, `revenue`, and `runtime`.  \n",
    "  \n",
    "**NOTE**:\n",
    "- For `revenue` column filling the whole `0` values with `mean` doesn't make any sense.\n",
    "- What if the movie actually doesn't generate any `revenue`?\n",
    "- For this reason we only fill the `revenue` columns having `0` value for their `budget` column as well."
   ]
  },
  {
   "cell_type": "code",
   "execution_count": 94,
   "metadata": {},
   "outputs": [],
   "source": [
    "# A function to replace `0` values\n",
    "def replace_zeros(row: pd.DataFrame, columns: list, data_frame: pd.DataFrame):\n",
    "    \"\"\"Replace zeros with the corresponding values\n",
    "\n",
    "    Args:\n",
    "        row (pd.Series): A row or data point\n",
    "        columns (list): A column or columns to replace their value\n",
    "        data_frame (pd.DataFrame): A data frame which hold a value to replace zero\n",
    "    \"\"\"\n",
    "    if (row[columns] == 0).all():\n",
    "        row[columns] = data_frame.loc[row.release_year, columns]\n",
    "        \n",
    "    return row"
   ]
  },
  {
   "cell_type": "markdown",
   "metadata": {},
   "source": [
    "Let's calculate the mean values for each year and columns"
   ]
  },
  {
   "cell_type": "code",
   "execution_count": 95,
   "metadata": {},
   "outputs": [
    {
     "data": {
      "text/html": [
       "<div>\n",
       "<style scoped>\n",
       "    .dataframe tbody tr th:only-of-type {\n",
       "        vertical-align: middle;\n",
       "    }\n",
       "\n",
       "    .dataframe tbody tr th {\n",
       "        vertical-align: top;\n",
       "    }\n",
       "\n",
       "    .dataframe thead th {\n",
       "        text-align: right;\n",
       "    }\n",
       "</style>\n",
       "<table border=\"1\" class=\"dataframe\">\n",
       "  <thead>\n",
       "    <tr style=\"text-align: right;\">\n",
       "      <th></th>\n",
       "      <th>budget</th>\n",
       "      <th>revenue</th>\n",
       "      <th>runtime</th>\n",
       "    </tr>\n",
       "  </thead>\n",
       "  <tbody>\n",
       "    <tr>\n",
       "      <th>count</th>\n",
       "      <td>5.600000e+01</td>\n",
       "      <td>5.600000e+01</td>\n",
       "      <td>56.000000</td>\n",
       "    </tr>\n",
       "    <tr>\n",
       "      <th>mean</th>\n",
       "      <td>1.079232e+07</td>\n",
       "      <td>3.354417e+07</td>\n",
       "      <td>106.551889</td>\n",
       "    </tr>\n",
       "    <tr>\n",
       "      <th>std</th>\n",
       "      <td>9.031786e+06</td>\n",
       "      <td>1.784543e+07</td>\n",
       "      <td>5.468500</td>\n",
       "    </tr>\n",
       "    <tr>\n",
       "      <th>min</th>\n",
       "      <td>6.892796e+05</td>\n",
       "      <td>1.925834e+06</td>\n",
       "      <td>97.281362</td>\n",
       "    </tr>\n",
       "    <tr>\n",
       "      <th>25%</th>\n",
       "      <td>2.530778e+06</td>\n",
       "      <td>1.998826e+07</td>\n",
       "      <td>103.402211</td>\n",
       "    </tr>\n",
       "    <tr>\n",
       "      <th>50%</th>\n",
       "      <td>7.214590e+06</td>\n",
       "      <td>3.419167e+07</td>\n",
       "      <td>106.427703</td>\n",
       "    </tr>\n",
       "    <tr>\n",
       "      <th>75%</th>\n",
       "      <td>1.821224e+07</td>\n",
       "      <td>4.854581e+07</td>\n",
       "      <td>109.097091</td>\n",
       "    </tr>\n",
       "    <tr>\n",
       "      <th>max</th>\n",
       "      <td>2.926633e+07</td>\n",
       "      <td>6.619554e+07</td>\n",
       "      <td>125.833333</td>\n",
       "    </tr>\n",
       "  </tbody>\n",
       "</table>\n",
       "</div>"
      ],
      "text/plain": [
       "             budget       revenue     runtime\n",
       "count  5.600000e+01  5.600000e+01   56.000000\n",
       "mean   1.079232e+07  3.354417e+07  106.551889\n",
       "std    9.031786e+06  1.784543e+07    5.468500\n",
       "min    6.892796e+05  1.925834e+06   97.281362\n",
       "25%    2.530778e+06  1.998826e+07  103.402211\n",
       "50%    7.214590e+06  3.419167e+07  106.427703\n",
       "75%    1.821224e+07  4.854581e+07  109.097091\n",
       "max    2.926633e+07  6.619554e+07  125.833333"
      ]
     },
     "execution_count": 95,
     "metadata": {},
     "output_type": "execute_result"
    }
   ],
   "source": [
    "year_mean = tmdb.groupby('release_year')[['budget', 'revenue', 'runtime']].mean()\n",
    "year_mean.describe()"
   ]
  },
  {
   "cell_type": "markdown",
   "metadata": {},
   "source": [
    "Let's subset our dataset before we perform operation on it"
   ]
  },
  {
   "cell_type": "code",
   "execution_count": 96,
   "metadata": {},
   "outputs": [
    {
     "data": {
      "text/plain": [
       "(3806, 13)"
      ]
     },
     "execution_count": 96,
     "metadata": {},
     "output_type": "execute_result"
    }
   ],
   "source": [
    "missing_budget_revenue = tmdb[(tmdb.budget == 0) & (tmdb.revenue == 0)]\n",
    "missing_budget_revenue.shape"
   ]
  },
  {
   "cell_type": "markdown",
   "metadata": {},
   "source": [
    "Let's perform the replacement"
   ]
  },
  {
   "cell_type": "code",
   "execution_count": 97,
   "metadata": {},
   "outputs": [],
   "source": [
    "missing_budget_revenue = missing_budget_revenue.apply(\n",
    "    lambda x: replace_zeros(x, ['budget', 'revenue'], year_mean),\n",
    "    axis=1)\n",
    "\n",
    "tmdb[tmdb.index.isin(missing_budget_revenue.index)] = missing_budget_revenue\n",
    "\n",
    "# Free up memory\n",
    "del missing_budget_revenue\n",
    "\n",
    "# Other mechanism\n",
    "# tmdb = tmdb.apply(lambda x: replace_zeros(x, ['budget', 'revenue'], year_mean), axis=1).head()"
   ]
  },
  {
   "cell_type": "markdown",
   "metadata": {},
   "source": [
    "Let's check if it worked as intended"
   ]
  },
  {
   "cell_type": "code",
   "execution_count": 98,
   "metadata": {},
   "outputs": [
    {
     "data": {
      "text/plain": [
       "(0, 13)"
      ]
     },
     "execution_count": 98,
     "metadata": {},
     "output_type": "execute_result"
    }
   ],
   "source": [
    "tmdb[(tmdb.budget == 0) & (tmdb.revenue == 0)].shape"
   ]
  },
  {
   "cell_type": "markdown",
   "metadata": {},
   "source": [
    "Let's now address the `runtime` column "
   ]
  },
  {
   "cell_type": "code",
   "execution_count": 99,
   "metadata": {},
   "outputs": [],
   "source": [
    "# Filtering\n",
    "missing_runtime = tmdb[tmdb.runtime == 0]\n",
    "\n",
    "# replacing zeros\n",
    "missing_runtime = missing_runtime.apply(lambda x: replace_zeros(x, ['runtime'], year_mean), axis=1)\n",
    "\n",
    "# replace on the main dataset\n",
    "tmdb[tmdb.index.isin(missing_runtime.index)] = missing_runtime\n",
    "\n",
    "# Free up memory\n",
    "del missing_runtime, year_mean"
   ]
  },
  {
   "cell_type": "markdown",
   "metadata": {},
   "source": [
    "Let's check if it worked as intended"
   ]
  },
  {
   "cell_type": "code",
   "execution_count": 100,
   "metadata": {},
   "outputs": [
    {
     "data": {
      "text/plain": [
       "(0, 13)"
      ]
     },
     "execution_count": 100,
     "metadata": {},
     "output_type": "execute_result"
    }
   ],
   "source": [
    "tmdb[tmdb.runtime == 0].shape"
   ]
  },
  {
   "cell_type": "markdown",
   "metadata": {},
   "source": [
    "Let's check the description, to see if we need further cleaning"
   ]
  },
  {
   "cell_type": "code",
   "execution_count": 101,
   "metadata": {},
   "outputs": [
    {
     "data": {
      "text/html": [
       "<div>\n",
       "<style scoped>\n",
       "    .dataframe tbody tr th:only-of-type {\n",
       "        vertical-align: middle;\n",
       "    }\n",
       "\n",
       "    .dataframe tbody tr th {\n",
       "        vertical-align: top;\n",
       "    }\n",
       "\n",
       "    .dataframe thead th {\n",
       "        text-align: right;\n",
       "    }\n",
       "</style>\n",
       "<table border=\"1\" class=\"dataframe\">\n",
       "  <thead>\n",
       "    <tr style=\"text-align: right;\">\n",
       "      <th></th>\n",
       "      <th>popularity</th>\n",
       "      <th>budget</th>\n",
       "      <th>revenue</th>\n",
       "      <th>runtime</th>\n",
       "      <th>vote_count</th>\n",
       "      <th>vote_average</th>\n",
       "      <th>release_year</th>\n",
       "    </tr>\n",
       "  </thead>\n",
       "  <tbody>\n",
       "    <tr>\n",
       "      <th>count</th>\n",
       "      <td>9772.000000</td>\n",
       "      <td>9.772000e+03</td>\n",
       "      <td>9.772000e+03</td>\n",
       "      <td>9772.000000</td>\n",
       "      <td>9772.000000</td>\n",
       "      <td>9772.000000</td>\n",
       "      <td>9772.000000</td>\n",
       "    </tr>\n",
       "    <tr>\n",
       "      <th>mean</th>\n",
       "      <td>0.694721</td>\n",
       "      <td>2.214154e+07</td>\n",
       "      <td>6.086234e+07</td>\n",
       "      <td>103.057654</td>\n",
       "      <td>0.000239</td>\n",
       "      <td>5.963528</td>\n",
       "      <td>2000.878428</td>\n",
       "    </tr>\n",
       "    <tr>\n",
       "      <th>std</th>\n",
       "      <td>1.036931</td>\n",
       "      <td>3.034473e+07</td>\n",
       "      <td>1.185776e+08</td>\n",
       "      <td>27.623684</td>\n",
       "      <td>0.000603</td>\n",
       "      <td>0.913174</td>\n",
       "      <td>13.036794</td>\n",
       "    </tr>\n",
       "    <tr>\n",
       "      <th>min</th>\n",
       "      <td>0.000188</td>\n",
       "      <td>0.000000e+00</td>\n",
       "      <td>0.000000e+00</td>\n",
       "      <td>3.000000</td>\n",
       "      <td>0.000010</td>\n",
       "      <td>1.500000</td>\n",
       "      <td>1960.000000</td>\n",
       "    </tr>\n",
       "    <tr>\n",
       "      <th>25%</th>\n",
       "      <td>0.232710</td>\n",
       "      <td>5.000000e+06</td>\n",
       "      <td>7.362011e+06</td>\n",
       "      <td>91.000000</td>\n",
       "      <td>0.000018</td>\n",
       "      <td>5.400000</td>\n",
       "      <td>1994.000000</td>\n",
       "    </tr>\n",
       "    <tr>\n",
       "      <th>50%</th>\n",
       "      <td>0.419762</td>\n",
       "      <td>1.500000e+07</td>\n",
       "      <td>3.964697e+07</td>\n",
       "      <td>100.000000</td>\n",
       "      <td>0.000046</td>\n",
       "      <td>6.000000</td>\n",
       "      <td>2005.000000</td>\n",
       "    </tr>\n",
       "    <tr>\n",
       "      <th>75%</th>\n",
       "      <td>0.776408</td>\n",
       "      <td>2.451125e+07</td>\n",
       "      <td>5.227538e+07</td>\n",
       "      <td>112.000000</td>\n",
       "      <td>0.000173</td>\n",
       "      <td>6.600000</td>\n",
       "      <td>2011.000000</td>\n",
       "    </tr>\n",
       "    <tr>\n",
       "      <th>max</th>\n",
       "      <td>32.985763</td>\n",
       "      <td>4.250000e+08</td>\n",
       "      <td>2.781506e+09</td>\n",
       "      <td>877.000000</td>\n",
       "      <td>0.009767</td>\n",
       "      <td>8.700000</td>\n",
       "      <td>2015.000000</td>\n",
       "    </tr>\n",
       "  </tbody>\n",
       "</table>\n",
       "</div>"
      ],
      "text/plain": [
       "        popularity        budget       revenue      runtime   vote_count  \\\n",
       "count  9772.000000  9.772000e+03  9.772000e+03  9772.000000  9772.000000   \n",
       "mean      0.694721  2.214154e+07  6.086234e+07   103.057654     0.000239   \n",
       "std       1.036931  3.034473e+07  1.185776e+08    27.623684     0.000603   \n",
       "min       0.000188  0.000000e+00  0.000000e+00     3.000000     0.000010   \n",
       "25%       0.232710  5.000000e+06  7.362011e+06    91.000000     0.000018   \n",
       "50%       0.419762  1.500000e+07  3.964697e+07   100.000000     0.000046   \n",
       "75%       0.776408  2.451125e+07  5.227538e+07   112.000000     0.000173   \n",
       "max      32.985763  4.250000e+08  2.781506e+09   877.000000     0.009767   \n",
       "\n",
       "       vote_average  release_year  \n",
       "count   9772.000000   9772.000000  \n",
       "mean       5.963528   2000.878428  \n",
       "std        0.913174     13.036794  \n",
       "min        1.500000   1960.000000  \n",
       "25%        5.400000   1994.000000  \n",
       "50%        6.000000   2005.000000  \n",
       "75%        6.600000   2011.000000  \n",
       "max        8.700000   2015.000000  "
      ]
     },
     "execution_count": 101,
     "metadata": {},
     "output_type": "execute_result"
    }
   ],
   "source": [
    "tmdb.describe()"
   ]
  },
  {
   "cell_type": "markdown",
   "metadata": {},
   "source": [
    "We still have empty value for `budget` column which doesn't make any sense. A movie has to have a `budget` so let's drop the data points with zero `budget` values"
   ]
  },
  {
   "cell_type": "markdown",
   "metadata": {},
   "source": [
    "<h3 id=\"drop_zero_budget\">Dropping Zero Budget Values</h3>"
   ]
  },
  {
   "cell_type": "code",
   "execution_count": 102,
   "metadata": {},
   "outputs": [
    {
     "data": {
      "text/plain": [
       "(945, 13)"
      ]
     },
     "execution_count": 102,
     "metadata": {},
     "output_type": "execute_result"
    }
   ],
   "source": [
    "tmdb[tmdb.budget == 0].shape"
   ]
  },
  {
   "cell_type": "code",
   "execution_count": 103,
   "metadata": {},
   "outputs": [
    {
     "data": {
      "text/plain": [
       "(9772, 13)"
      ]
     },
     "execution_count": 103,
     "metadata": {},
     "output_type": "execute_result"
    }
   ],
   "source": [
    "tmdb.shape"
   ]
  },
  {
   "cell_type": "code",
   "execution_count": 104,
   "metadata": {},
   "outputs": [
    {
     "data": {
      "text/plain": [
       "(8827, 13)"
      ]
     },
     "execution_count": 104,
     "metadata": {},
     "output_type": "execute_result"
    }
   ],
   "source": [
    "tmdb.drop(tmdb[tmdb.budget == 0].index, inplace=True)\n",
    "tmdb.shape"
   ]
  },
  {
   "cell_type": "markdown",
   "metadata": {},
   "source": [
    "Let's check the description once again"
   ]
  },
  {
   "cell_type": "code",
   "execution_count": 105,
   "metadata": {},
   "outputs": [
    {
     "data": {
      "text/html": [
       "<div>\n",
       "<style scoped>\n",
       "    .dataframe tbody tr th:only-of-type {\n",
       "        vertical-align: middle;\n",
       "    }\n",
       "\n",
       "    .dataframe tbody tr th {\n",
       "        vertical-align: top;\n",
       "    }\n",
       "\n",
       "    .dataframe thead th {\n",
       "        text-align: right;\n",
       "    }\n",
       "</style>\n",
       "<table border=\"1\" class=\"dataframe\">\n",
       "  <thead>\n",
       "    <tr style=\"text-align: right;\">\n",
       "      <th></th>\n",
       "      <th>popularity</th>\n",
       "      <th>budget</th>\n",
       "      <th>revenue</th>\n",
       "      <th>runtime</th>\n",
       "      <th>vote_count</th>\n",
       "      <th>vote_average</th>\n",
       "      <th>release_year</th>\n",
       "    </tr>\n",
       "  </thead>\n",
       "  <tbody>\n",
       "    <tr>\n",
       "      <th>count</th>\n",
       "      <td>8827.000000</td>\n",
       "      <td>8.827000e+03</td>\n",
       "      <td>8.827000e+03</td>\n",
       "      <td>8827.000000</td>\n",
       "      <td>8827.000000</td>\n",
       "      <td>8827.000000</td>\n",
       "      <td>8827.000000</td>\n",
       "    </tr>\n",
       "    <tr>\n",
       "      <th>mean</th>\n",
       "      <td>0.716565</td>\n",
       "      <td>2.451196e+07</td>\n",
       "      <td>6.538610e+07</td>\n",
       "      <td>103.030859</td>\n",
       "      <td>0.000256</td>\n",
       "      <td>5.952011</td>\n",
       "      <td>2001.056644</td>\n",
       "    </tr>\n",
       "    <tr>\n",
       "      <th>std</th>\n",
       "      <td>1.081815</td>\n",
       "      <td>3.100455e+07</td>\n",
       "      <td>1.235158e+08</td>\n",
       "      <td>27.890449</td>\n",
       "      <td>0.000631</td>\n",
       "      <td>0.923038</td>\n",
       "      <td>13.067161</td>\n",
       "    </tr>\n",
       "    <tr>\n",
       "      <th>min</th>\n",
       "      <td>0.000188</td>\n",
       "      <td>1.000000e+00</td>\n",
       "      <td>0.000000e+00</td>\n",
       "      <td>3.000000</td>\n",
       "      <td>0.000010</td>\n",
       "      <td>1.500000</td>\n",
       "      <td>1960.000000</td>\n",
       "    </tr>\n",
       "    <tr>\n",
       "      <th>25%</th>\n",
       "      <td>0.229921</td>\n",
       "      <td>8.000000e+06</td>\n",
       "      <td>1.111653e+07</td>\n",
       "      <td>90.000000</td>\n",
       "      <td>0.000018</td>\n",
       "      <td>5.400000</td>\n",
       "      <td>1995.000000</td>\n",
       "    </tr>\n",
       "    <tr>\n",
       "      <th>50%</th>\n",
       "      <td>0.420671</td>\n",
       "      <td>1.658190e+07</td>\n",
       "      <td>4.248739e+07</td>\n",
       "      <td>99.000000</td>\n",
       "      <td>0.000046</td>\n",
       "      <td>6.000000</td>\n",
       "      <td>2005.000000</td>\n",
       "    </tr>\n",
       "    <tr>\n",
       "      <th>75%</th>\n",
       "      <td>0.802777</td>\n",
       "      <td>2.600000e+07</td>\n",
       "      <td>5.380743e+07</td>\n",
       "      <td>112.000000</td>\n",
       "      <td>0.000185</td>\n",
       "      <td>6.600000</td>\n",
       "      <td>2011.000000</td>\n",
       "    </tr>\n",
       "    <tr>\n",
       "      <th>max</th>\n",
       "      <td>32.985763</td>\n",
       "      <td>4.250000e+08</td>\n",
       "      <td>2.781506e+09</td>\n",
       "      <td>877.000000</td>\n",
       "      <td>0.009767</td>\n",
       "      <td>8.700000</td>\n",
       "      <td>2015.000000</td>\n",
       "    </tr>\n",
       "  </tbody>\n",
       "</table>\n",
       "</div>"
      ],
      "text/plain": [
       "        popularity        budget       revenue      runtime   vote_count  \\\n",
       "count  8827.000000  8.827000e+03  8.827000e+03  8827.000000  8827.000000   \n",
       "mean      0.716565  2.451196e+07  6.538610e+07   103.030859     0.000256   \n",
       "std       1.081815  3.100455e+07  1.235158e+08    27.890449     0.000631   \n",
       "min       0.000188  1.000000e+00  0.000000e+00     3.000000     0.000010   \n",
       "25%       0.229921  8.000000e+06  1.111653e+07    90.000000     0.000018   \n",
       "50%       0.420671  1.658190e+07  4.248739e+07    99.000000     0.000046   \n",
       "75%       0.802777  2.600000e+07  5.380743e+07   112.000000     0.000185   \n",
       "max      32.985763  4.250000e+08  2.781506e+09   877.000000     0.009767   \n",
       "\n",
       "       vote_average  release_year  \n",
       "count   8827.000000   8827.000000  \n",
       "mean       5.952011   2001.056644  \n",
       "std        0.923038     13.067161  \n",
       "min        1.500000   1960.000000  \n",
       "25%        5.400000   1995.000000  \n",
       "50%        6.000000   2005.000000  \n",
       "75%        6.600000   2011.000000  \n",
       "max        8.700000   2015.000000  "
      ]
     },
     "execution_count": 105,
     "metadata": {},
     "output_type": "execute_result"
    }
   ],
   "source": [
    "tmdb.describe()"
   ]
  },
  {
   "cell_type": "markdown",
   "metadata": {},
   "source": [
    "Finally we got almost cleaned data. Let's now jump into answering the questions"
   ]
  },
  {
   "cell_type": "markdown",
   "metadata": {},
   "source": [
    "<h2 id=\"answering_questions\">Answering Questions</h2>"
   ]
  },
  {
   "cell_type": "markdown",
   "metadata": {},
   "source": [
    "Before we start answering questions, let's compute the net profit of the movies and store it in `net_profit` column.  \n",
    "  \n",
    "<!-- **NOTE**: When we refer to the most successful or flopped of something, we are always referring the number `20`, i.e., top or bottom `20`. -->"
   ]
  },
  {
   "cell_type": "code",
   "execution_count": 106,
   "metadata": {},
   "outputs": [
    {
     "data": {
      "text/plain": [
       "id\n",
       "135397    1.363529e+09\n",
       "76341     2.284364e+08\n",
       "262500    1.852382e+08\n",
       "140607    1.868178e+09\n",
       "168259    1.316249e+09\n",
       "Name: net_profit, dtype: float64"
      ]
     },
     "execution_count": 106,
     "metadata": {},
     "output_type": "execute_result"
    }
   ],
   "source": [
    "tmdb['net_profit'] = tmdb.revenue - tmdb.budget\n",
    "tmdb.net_profit.head()"
   ]
  },
  {
   "cell_type": "markdown",
   "metadata": {},
   "source": [
    "Again before we start answering questions, let's first filter out the successful and flopped movies and build DataFrame for each,\n",
    "- Let's consider successful ones as movies those earned more than 75% of their budget.\n",
    "- Let's consider flopped ones as movies those earned less than 25% of their budget."
   ]
  },
  {
   "cell_type": "code",
   "execution_count": 228,
   "metadata": {},
   "outputs": [
    {
     "data": {
      "text/plain": [
       "count    8.827000e+03\n",
       "mean     4.087414e+07\n",
       "std      1.039485e+08\n",
       "min     -4.139124e+08\n",
       "25%     -5.500000e+04\n",
       "50%      2.586031e+07\n",
       "75%      3.435121e+07\n",
       "max      2.544506e+09\n",
       "Name: net_profit, dtype: float64"
      ]
     },
     "execution_count": 228,
     "metadata": {},
     "output_type": "execute_result"
    }
   ],
   "source": [
    "tmdb.net_profit.describe()"
   ]
  },
  {
   "cell_type": "code",
   "execution_count": 231,
   "metadata": {},
   "outputs": [
    {
     "data": {
      "text/plain": [
       "((2207, 16), (2289, 16))"
      ]
     },
     "execution_count": 231,
     "metadata": {},
     "output_type": "execute_result"
    }
   ],
   "source": [
    "tmdb[tmdb.net_profit <= -5.500000e+04].shape, tmdb[tmdb.net_profit >= 3.435121e+07].shape"
   ]
  },
  {
   "cell_type": "code",
   "execution_count": 175,
   "metadata": {},
   "outputs": [],
   "source": [
    "# Calculating net profit percentile\n",
    "net_profit_percentile = tmdb.assign(net_profit_budget_proportion=lambda x: (x.net_profit / x.budget * 100))\n",
    "net_profit_percentile = net_profit_percentile.sort_values('net_profit_budget_proportion', axis=0, ascending=False)\n",
    "\n",
    "# Let's check what are the values for `25` and `75` percentiles\n",
    "# net_profit_percentile.net_profit_budget_proportion.describe()"
   ]
  },
  {
   "cell_type": "code",
   "execution_count": 184,
   "metadata": {},
   "outputs": [
    {
     "data": {
      "text/plain": [
       "((2290, 17), (2207, 17))"
      ]
     },
     "execution_count": 184,
     "metadata": {},
     "output_type": "execute_result"
    }
   ],
   "source": [
    "successful.shape, flopped.shape"
   ]
  },
  {
   "cell_type": "code",
   "execution_count": 187,
   "metadata": {},
   "outputs": [],
   "source": [
    "# successful = net_profit_percentile[net_profit_percentile.net_profit_budget_proportion >= 2.524777e+02]\n",
    "# flopped = net_profit_percentile[net_profit_percentile.net_profit_budget_proportion <= -6.554066e+00]\n",
    "\n",
    "successful = net_profit_percentile[net_profit_percentile.net_profit_budget_proportion >= 100]\n",
    "flopped = net_profit_percentile[net_profit_percentile.net_profit_budget_proportion <= 25]"
   ]
  },
  {
   "cell_type": "code",
   "execution_count": 188,
   "metadata": {},
   "outputs": [
    {
     "data": {
      "text/plain": [
       "((5673, 17), (2492, 17))"
      ]
     },
     "execution_count": 188,
     "metadata": {},
     "output_type": "execute_result"
    }
   ],
   "source": [
    "successful.shape, flopped.shape"
   ]
  },
  {
   "cell_type": "markdown",
   "metadata": {},
   "source": [
    "<h3 id=\"popularity_questions\">Popularity Related Questions</h3>  \n",
    "\n",
    "Let's answer each of the questions listed under `Popularity`"
   ]
  },
  {
   "cell_type": "markdown",
   "metadata": {},
   "source": [
    "Let's first visualize the `popularity` histogram"
   ]
  },
  {
   "cell_type": "code",
   "execution_count": 107,
   "metadata": {},
   "outputs": [
    {
     "data": {
      "text/plain": [
       "Text(0.5, 1.0, 'Popularity histogram distribution')"
      ]
     },
     "execution_count": 107,
     "metadata": {},
     "output_type": "execute_result"
    },
    {
     "data": {
      "image/png": "[encoded data removed]",
      "text/plain": [
       "<Figure size 720x576 with 1 Axes>"
      ]
     },
     "metadata": {},
     "output_type": "display_data"
    }
   ],
   "source": [
    "tmdb.popularity.hist(bins=20, figsize=(10, 8))\n",
    "plt.title('Popularity histogram distribution')"
   ]
  },
  {
   "cell_type": "markdown",
   "metadata": {},
   "source": [
    "More than half of the movies are not popular, only few have the value of 1 million or more"
   ]
  },
  {
   "cell_type": "markdown",
   "metadata": {},
   "source": [
    "**Q#1: Are the most popular movies a commercial success? What is their ratio of total profit?**"
   ]
  },
  {
   "cell_type": "markdown",
   "metadata": {},
   "source": [
    "Let's rank our dataset with `popularity` and `net_profit`"
   ]
  },
  {
   "cell_type": "code",
   "execution_count": 108,
   "metadata": {},
   "outputs": [
    {
     "data": {
      "text/html": [
       "<div>\n",
       "<style scoped>\n",
       "    .dataframe tbody tr th:only-of-type {\n",
       "        vertical-align: middle;\n",
       "    }\n",
       "\n",
       "    .dataframe tbody tr th {\n",
       "        vertical-align: top;\n",
       "    }\n",
       "\n",
       "    .dataframe thead th {\n",
       "        text-align: right;\n",
       "    }\n",
       "</style>\n",
       "<table border=\"1\" class=\"dataframe\">\n",
       "  <thead>\n",
       "    <tr style=\"text-align: right;\">\n",
       "      <th></th>\n",
       "      <th>popularity_rank</th>\n",
       "      <th>net_profit_rank</th>\n",
       "    </tr>\n",
       "    <tr>\n",
       "      <th>id</th>\n",
       "      <th></th>\n",
       "      <th></th>\n",
       "    </tr>\n",
       "  </thead>\n",
       "  <tbody>\n",
       "    <tr>\n",
       "      <th>135397</th>\n",
       "      <td>1</td>\n",
       "      <td>4</td>\n",
       "    </tr>\n",
       "    <tr>\n",
       "      <th>76341</th>\n",
       "      <td>2</td>\n",
       "      <td>336</td>\n",
       "    </tr>\n",
       "    <tr>\n",
       "      <th>262500</th>\n",
       "      <td>5</td>\n",
       "      <td>425</td>\n",
       "    </tr>\n",
       "    <tr>\n",
       "      <th>140607</th>\n",
       "      <td>9</td>\n",
       "      <td>2</td>\n",
       "    </tr>\n",
       "    <tr>\n",
       "      <th>168259</th>\n",
       "      <td>14</td>\n",
       "      <td>5</td>\n",
       "    </tr>\n",
       "  </tbody>\n",
       "</table>\n",
       "</div>"
      ],
      "text/plain": [
       "        popularity_rank  net_profit_rank\n",
       "id                                      \n",
       "135397                1                4\n",
       "76341                 2              336\n",
       "262500                5              425\n",
       "140607                9                2\n",
       "168259               14                5"
      ]
     },
     "execution_count": 108,
     "metadata": {},
     "output_type": "execute_result"
    }
   ],
   "source": [
    "tmdb['popularity_rank'] = tmdb.popularity.rank(method='dense', ascending=False).astype(int)\n",
    "tmdb['net_profit_rank'] = tmdb.net_profit.rank(method='dense', ascending=False).astype(int)\n",
    "tmdb[['popularity_rank', 'net_profit_rank']].head()"
   ]
  },
  {
   "cell_type": "markdown",
   "metadata": {},
   "source": [
    "Let's take the most popular movies and see their `net_profit_rank`"
   ]
  },
  {
   "cell_type": "code",
   "execution_count": 109,
   "metadata": {},
   "outputs": [
    {
     "data": {
      "text/html": [
       "<div>\n",
       "<style scoped>\n",
       "    .dataframe tbody tr th:only-of-type {\n",
       "        vertical-align: middle;\n",
       "    }\n",
       "\n",
       "    .dataframe tbody tr th {\n",
       "        vertical-align: top;\n",
       "    }\n",
       "\n",
       "    .dataframe thead th {\n",
       "        text-align: right;\n",
       "    }\n",
       "</style>\n",
       "<table border=\"1\" class=\"dataframe\">\n",
       "  <thead>\n",
       "    <tr style=\"text-align: right;\">\n",
       "      <th></th>\n",
       "      <th>original_title</th>\n",
       "      <th>net_profit</th>\n",
       "      <th>popularity_rank</th>\n",
       "      <th>net_profit_rank</th>\n",
       "      <th>net_profit_rank_scale</th>\n",
       "    </tr>\n",
       "    <tr>\n",
       "      <th>id</th>\n",
       "      <th></th>\n",
       "      <th></th>\n",
       "      <th></th>\n",
       "      <th></th>\n",
       "      <th></th>\n",
       "    </tr>\n",
       "  </thead>\n",
       "  <tbody>\n",
       "    <tr>\n",
       "      <th>135397</th>\n",
       "      <td>Jurassic World</td>\n",
       "      <td>1.363529e+09</td>\n",
       "      <td>1</td>\n",
       "      <td>4</td>\n",
       "      <td>3</td>\n",
       "    </tr>\n",
       "    <tr>\n",
       "      <th>76341</th>\n",
       "      <td>Mad Max: Fury Road</td>\n",
       "      <td>2.284364e+08</td>\n",
       "      <td>2</td>\n",
       "      <td>336</td>\n",
       "      <td>8</td>\n",
       "    </tr>\n",
       "    <tr>\n",
       "      <th>157336</th>\n",
       "      <td>Interstellar</td>\n",
       "      <td>4.567525e+08</td>\n",
       "      <td>3</td>\n",
       "      <td>115</td>\n",
       "      <td>6</td>\n",
       "    </tr>\n",
       "  </tbody>\n",
       "</table>\n",
       "</div>"
      ],
      "text/plain": [
       "            original_title    net_profit  popularity_rank  net_profit_rank  \\\n",
       "id                                                                           \n",
       "135397      Jurassic World  1.363529e+09                1                4   \n",
       "76341   Mad Max: Fury Road  2.284364e+08                2              336   \n",
       "157336        Interstellar  4.567525e+08                3              115   \n",
       "\n",
       "        net_profit_rank_scale  \n",
       "id                             \n",
       "135397                      3  \n",
       "76341                       8  \n",
       "157336                      6  "
      ]
     },
     "execution_count": 109,
     "metadata": {},
     "output_type": "execute_result"
    }
   ],
   "source": [
    "# Filtering the necessary columns\n",
    "top_popular = tmdb.sort_values('popularity', axis=0, ascending=False).head(20) \\\n",
    "    [['original_title', 'net_profit', 'popularity_rank', 'net_profit_rank']]\n",
    "\n",
    "# Scaling the `net_profit_rank` down to `1 - 20`\n",
    "# the formula is: (((OldValue - OldMin) * (NewMax - NewMin)) / (OldMax - OldMin)) + NewMin\n",
    "top_popular['net_profit_rank_scale'] = (\n",
    "    ((top_popular.net_profit_rank - top_popular.net_profit_rank.min()) * 19) \\\n",
    "        / (top_popular.net_profit_rank.max() - top_popular.net_profit_rank.min())) + 1\n",
    "\n",
    "# substitute values\n",
    "def substitute(row: pd.DataFrame):\n",
    "    \"\"\"substitute `net_profit_rank_scale` by their respective scaled values\n",
    "\n",
    "    Args:\n",
    "        row (pd.DataFrame): a row in a dataset\n",
    "\n",
    "    Returns:\n",
    "        pd.DataFrame: the same row after substitution has been done\n",
    "    \"\"\"\n",
    "    if row.net_profit_rank > row.popularity_rank:\n",
    "        row.net_profit_rank_scale = row.net_profit_rank_scale + row.popularity_rank\n",
    "        \n",
    "    return row\n",
    "\n",
    "top_popular = top_popular.apply(lambda x: substitute(x), axis=1)\n",
    "top_popular.net_profit_rank_scale = np.ceil(top_popular.net_profit_rank_scale).astype(int)\n",
    "\n",
    "top_popular.head(3)"
   ]
  },
  {
   "cell_type": "markdown",
   "metadata": {},
   "source": [
    "Le't visualize it"
   ]
  },
  {
   "cell_type": "code",
   "execution_count": 110,
   "metadata": {},
   "outputs": [
    {
     "data": {
      "image/png": "[encoded data removed]",
      "text/plain": [
       "<Figure size 1008x576 with 1 Axes>"
      ]
     },
     "metadata": {},
     "output_type": "display_data"
    }
   ],
   "source": [
    "fig, ax = plt.subplots(figsize=(14, 8))\n",
    "\n",
    "# setup\n",
    "bar_width = 0.5\n",
    "x_tick_points = np.linspace(1, 20, 20)\n",
    "\n",
    "# drawing the popularity_rank\n",
    "ax.bar(x_tick_points, top_popular.popularity_rank, color='#885053', width=bar_width, label='Popularity Rank')\n",
    "\n",
    "# drawing the net_profit_rank\n",
    "ax.bar(x_tick_points + bar_width, top_popular.net_profit_rank_scale, color='#777DA7', width=bar_width, label='Profit Rank', alpha=0.8)\n",
    "\n",
    "plt.title('Popularity vs Net Profit Rank', fontsize=18)\n",
    "plt.legend(loc=\"upper left\")\n",
    "plt.xlabel(\"Movie\")\n",
    "plt.ylabel(\"Rank\")\n",
    "\n",
    "plt.xticks(x_tick_points + bar_width / 2, top_popular.original_title, rotation=45, horizontalalignment='right');"
   ]
  },
  {
   "cell_type": "code",
   "execution_count": 111,
   "metadata": {},
   "outputs": [
    {
     "data": {
      "text/plain": [
       "(360796019798.944, 14735629594.0)"
      ]
     },
     "execution_count": 111,
     "metadata": {},
     "output_type": "execute_result"
    }
   ],
   "source": [
    "# Calculating the `net_profit` total for popular movies and overall\n",
    "total_profit = tmdb.net_profit.sum()\n",
    "popular_profit = top_popular.net_profit.sum()\n",
    "\n",
    "total_profit, popular_profit"
   ]
  },
  {
   "cell_type": "markdown",
   "metadata": {},
   "source": [
    "Visualizing `net_profit` ratio"
   ]
  },
  {
   "cell_type": "code",
   "execution_count": 112,
   "metadata": {},
   "outputs": [
    {
     "data": {
      "image/png": "[encoded data removed]",
      "text/plain": [
       "<Figure size 1152x576 with 2 Axes>"
      ]
     },
     "metadata": {},
     "output_type": "display_data"
    }
   ],
   "source": [
    "fig, ax = plt.subplots(nrows=1, ncols=2, figsize=(16, 8))\n",
    "\n",
    "# Let's plot the bar chart\n",
    "ax[0].bar([1, 2], [popular_profit, total_profit], color=['#885053', '#777DA7'])\n",
    "ax[0].set_ylabel('Net Profit')\n",
    "ax[0].set_xticks([1, 2], ['Popular', 'Overall'])\n",
    "\n",
    "# Let's plot pie chart\n",
    "ax[1].pie(\n",
    "    [popular_profit, total_profit - popular_profit],\n",
    "    labels=['Popular', 'Overall'],\n",
    "    colors=['#885053', '#777DA7'], autopct='%.1f%%',\n",
    "    textprops={'size': 'xx-large'})\n",
    "\n",
    "plt.suptitle(\"Total Net Profit vs Popular Movies Net Profit\", fontsize=18);"
   ]
  },
  {
   "cell_type": "markdown",
   "metadata": {},
   "source": [
    "**Q2: Which movies are commercially successful but not popular?**  \n",
    "  \n",
    "To answer this question, we already done most of it's part while answering question #1"
   ]
  },
  {
   "cell_type": "code",
   "execution_count": 113,
   "metadata": {},
   "outputs": [
    {
     "data": {
      "text/html": [
       "<style type=\"text/css\">\n",
       "</style>\n",
       "<table id=\"T_73f95\">\n",
       "  <thead>\n",
       "    <tr>\n",
       "      <th id=\"T_73f95_level0_col0\" class=\"col_heading level0 col0\" >original_title</th>\n",
       "      <th id=\"T_73f95_level0_col1\" class=\"col_heading level0 col1\" >net_profit</th>\n",
       "      <th id=\"T_73f95_level0_col2\" class=\"col_heading level0 col2\" >popularity_rank</th>\n",
       "      <th id=\"T_73f95_level0_col3\" class=\"col_heading level0 col3\" >net_profit_rank</th>\n",
       "    </tr>\n",
       "  </thead>\n",
       "  <tbody>\n",
       "    <tr>\n",
       "      <td id=\"T_73f95_row0_col0\" class=\"data row0 col0\" >Titanic</td>\n",
       "      <td id=\"T_73f95_row0_col1\" class=\"data row0 col1\" >1645034188.000000</td>\n",
       "      <td id=\"T_73f95_row0_col2\" class=\"data row0 col2\" >119</td>\n",
       "      <td id=\"T_73f95_row0_col3\" class=\"data row0 col3\" >3</td>\n",
       "    </tr>\n",
       "    <tr>\n",
       "      <td id=\"T_73f95_row1_col0\" class=\"data row1 col0\" >The Avengers</td>\n",
       "      <td id=\"T_73f95_row1_col1\" class=\"data row1 col1\" >1299557910.000000</td>\n",
       "      <td id=\"T_73f95_row1_col2\" class=\"data row1 col2\" >28</td>\n",
       "      <td id=\"T_73f95_row1_col3\" class=\"data row1 col3\" >6</td>\n",
       "    </tr>\n",
       "    <tr>\n",
       "      <td id=\"T_73f95_row2_col0\" class=\"data row2 col0\" >Harry Potter and the Deathly Hallows: Part 2</td>\n",
       "      <td id=\"T_73f95_row2_col1\" class=\"data row2 col1\" >1202817822.000000</td>\n",
       "      <td id=\"T_73f95_row2_col2\" class=\"data row2 col2\" >66</td>\n",
       "      <td id=\"T_73f95_row2_col3\" class=\"data row2 col3\" >7</td>\n",
       "    </tr>\n",
       "    <tr>\n",
       "      <td id=\"T_73f95_row3_col0\" class=\"data row3 col0\" >Avengers: Age of Ultron</td>\n",
       "      <td id=\"T_73f95_row3_col1\" class=\"data row3 col1\" >1125035767.000000</td>\n",
       "      <td id=\"T_73f95_row3_col2\" class=\"data row3 col2\" >55</td>\n",
       "      <td id=\"T_73f95_row3_col3\" class=\"data row3 col3\" >8</td>\n",
       "    </tr>\n",
       "    <tr>\n",
       "      <td id=\"T_73f95_row4_col0\" class=\"data row4 col0\" >Frozen</td>\n",
       "      <td id=\"T_73f95_row4_col1\" class=\"data row4 col1\" >1124219009.000000</td>\n",
       "      <td id=\"T_73f95_row4_col2\" class=\"data row4 col2\" >48</td>\n",
       "      <td id=\"T_73f95_row4_col3\" class=\"data row4 col3\" >9</td>\n",
       "    </tr>\n",
       "    <tr>\n",
       "      <td id=\"T_73f95_row5_col0\" class=\"data row5 col0\" >The Net</td>\n",
       "      <td id=\"T_73f95_row5_col1\" class=\"data row5 col1\" >1084279658.000000</td>\n",
       "      <td id=\"T_73f95_row5_col2\" class=\"data row5 col2\" >1381</td>\n",
       "      <td id=\"T_73f95_row5_col3\" class=\"data row5 col3\" >10</td>\n",
       "    </tr>\n",
       "    <tr>\n",
       "      <td id=\"T_73f95_row6_col0\" class=\"data row6 col0\" >Minions</td>\n",
       "      <td id=\"T_73f95_row6_col1\" class=\"data row6 col1\" >1082730962.000000</td>\n",
       "      <td id=\"T_73f95_row6_col2\" class=\"data row6 col2\" >29</td>\n",
       "      <td id=\"T_73f95_row6_col3\" class=\"data row6 col3\" >11</td>\n",
       "    </tr>\n",
       "    <tr>\n",
       "      <td id=\"T_73f95_row7_col0\" class=\"data row7 col0\" >The Lord of the Rings: The Return of the King</td>\n",
       "      <td id=\"T_73f95_row7_col1\" class=\"data row7 col1\" >1024888979.000000</td>\n",
       "      <td id=\"T_73f95_row7_col2\" class=\"data row7 col2\" >32</td>\n",
       "      <td id=\"T_73f95_row7_col3\" class=\"data row7 col3\" >12</td>\n",
       "    </tr>\n",
       "    <tr>\n",
       "      <td id=\"T_73f95_row8_col0\" class=\"data row8 col0\" >Iron Man 3</td>\n",
       "      <td id=\"T_73f95_row8_col1\" class=\"data row8 col1\" >1015439994.000000</td>\n",
       "      <td id=\"T_73f95_row8_col2\" class=\"data row8 col2\" >88</td>\n",
       "      <td id=\"T_73f95_row8_col3\" class=\"data row8 col3\" >13</td>\n",
       "    </tr>\n",
       "    <tr>\n",
       "      <td id=\"T_73f95_row9_col0\" class=\"data row9 col0\" >Transformers: Dark of the Moon</td>\n",
       "      <td id=\"T_73f95_row9_col1\" class=\"data row9 col1\" >928746996.000000</td>\n",
       "      <td id=\"T_73f95_row9_col2\" class=\"data row9 col2\" >2363</td>\n",
       "      <td id=\"T_73f95_row9_col3\" class=\"data row9 col3\" >14</td>\n",
       "    </tr>\n",
       "    <tr>\n",
       "      <td id=\"T_73f95_row10_col0\" class=\"data row10 col0\" >Skyfall</td>\n",
       "      <td id=\"T_73f95_row10_col1\" class=\"data row10 col1\" >908561013.000000</td>\n",
       "      <td id=\"T_73f95_row10_col2\" class=\"data row10 col2\" >70</td>\n",
       "      <td id=\"T_73f95_row10_col3\" class=\"data row10 col3\" >15</td>\n",
       "    </tr>\n",
       "    <tr>\n",
       "      <td id=\"T_73f95_row11_col0\" class=\"data row11 col0\" >Despicable Me 2</td>\n",
       "      <td id=\"T_73f95_row11_col1\" class=\"data row11 col1\" >894761885.000000</td>\n",
       "      <td id=\"T_73f95_row11_col2\" class=\"data row11 col2\" >145</td>\n",
       "      <td id=\"T_73f95_row11_col3\" class=\"data row11 col3\" >16</td>\n",
       "    </tr>\n",
       "    <tr>\n",
       "      <td id=\"T_73f95_row12_col0\" class=\"data row12 col0\" >Pirates of the Caribbean: Dead Man's Chest</td>\n",
       "      <td id=\"T_73f95_row12_col1\" class=\"data row12 col1\" >865659812.000000</td>\n",
       "      <td id=\"T_73f95_row12_col2\" class=\"data row12 col2\" >126</td>\n",
       "      <td id=\"T_73f95_row12_col3\" class=\"data row12 col3\" >17</td>\n",
       "    </tr>\n",
       "    <tr>\n",
       "      <td id=\"T_73f95_row13_col0\" class=\"data row13 col0\" >Toy Story 3</td>\n",
       "      <td id=\"T_73f95_row13_col1\" class=\"data row13 col1\" >863171911.000000</td>\n",
       "      <td id=\"T_73f95_row13_col2\" class=\"data row13 col2\" >309</td>\n",
       "      <td id=\"T_73f95_row13_col3\" class=\"data row13 col3\" >18</td>\n",
       "    </tr>\n",
       "    <tr>\n",
       "      <td id=\"T_73f95_row14_col0\" class=\"data row14 col0\" >Jurassic Park</td>\n",
       "      <td id=\"T_73f95_row14_col1\" class=\"data row14 col1\" >857100000.000000</td>\n",
       "      <td id=\"T_73f95_row14_col2\" class=\"data row14 col2\" >462</td>\n",
       "      <td id=\"T_73f95_row14_col3\" class=\"data row14 col3\" >19</td>\n",
       "    </tr>\n",
       "    <tr>\n",
       "      <td id=\"T_73f95_row15_col0\" class=\"data row15 col0\" >Harry Potter and the Philosopher's Stone</td>\n",
       "      <td id=\"T_73f95_row15_col1\" class=\"data row15 col1\" >851475550.000000</td>\n",
       "      <td id=\"T_73f95_row15_col2\" class=\"data row15 col2\" >24</td>\n",
       "      <td id=\"T_73f95_row15_col3\" class=\"data row15 col3\" >20</td>\n",
       "    </tr>\n",
       "  </tbody>\n",
       "</table>\n"
      ],
      "text/plain": [
       "<pandas.io.formats.style.Styler at 0x1e950efae00>"
      ]
     },
     "execution_count": 113,
     "metadata": {},
     "output_type": "execute_result"
    }
   ],
   "source": [
    "# ranking using `net_profit` column\n",
    "net_profit_rank = tmdb.sort_values('net_profit', ascending=False, axis=0)\n",
    "\n",
    "# Taking only the top 20\n",
    "unpopular_movies = net_profit_rank.head(20).copy()\n",
    "del net_profit_rank\n",
    "\n",
    "# Filter out the popular ones\n",
    "unpopular_movies = unpopular_movies[~unpopular_movies.index.isin(top_popular.index)]\n",
    "\n",
    "unpopular_movies[['original_title', 'net_profit', 'popularity_rank', 'net_profit_rank']].style.hide(axis='index')"
   ]
  },
  {
   "cell_type": "code",
   "execution_count": 114,
   "metadata": {},
   "outputs": [
    {
     "data": {
      "text/plain": [
       "(360796019798.944, 16773481456.0)"
      ]
     },
     "execution_count": 114,
     "metadata": {},
     "output_type": "execute_result"
    }
   ],
   "source": [
    "# Calculating the `net_profit` total for unpopular movies and overall\n",
    "unpopular_profit = unpopular_movies.net_profit.sum()\n",
    "\n",
    "total_profit, unpopular_profit"
   ]
  },
  {
   "cell_type": "markdown",
   "metadata": {},
   "source": [
    "Visualizing the `net_profit` ratio"
   ]
  },
  {
   "cell_type": "code",
   "execution_count": 115,
   "metadata": {},
   "outputs": [
    {
     "data": {
      "image/png": "[encoded data removed]",
      "text/plain": [
       "<Figure size 1152x576 with 2 Axes>"
      ]
     },
     "metadata": {},
     "output_type": "display_data"
    }
   ],
   "source": [
    "fig, ax = plt.subplots(nrows=1, ncols=2, figsize=(16, 8))\n",
    "\n",
    "# Let's plot the bar chart\n",
    "ax[0].bar([1, 2], [unpopular_profit, total_profit], color=['#885053', '#777DA7'])\n",
    "ax[0].set_ylabel('Net Profit')\n",
    "ax[0].set_xticks([1, 2], ['Unpopular', 'Overall'])\n",
    "\n",
    "# Let's plot pie chart\n",
    "ax[1].pie(\n",
    "    [unpopular_profit, total_profit - unpopular_profit],\n",
    "    labels=['Unpopular', 'Overall'],\n",
    "    colors=['#885053', '#777DA7'], autopct='%.1f%%',\n",
    "    textprops={'size': 'xx-large'})\n",
    "\n",
    "plt.suptitle(\"Total Net Profit vs Unpopular Movies Net Profit\", fontsize=18);"
   ]
  },
  {
   "cell_type": "markdown",
   "metadata": {},
   "source": [
    "**Q#3. Which movies have the highest `popularity` vs `vote_count` ratio?**"
   ]
  },
  {
   "cell_type": "code",
   "execution_count": 116,
   "metadata": {},
   "outputs": [
    {
     "data": {
      "text/html": [
       "<style type=\"text/css\">\n",
       "</style>\n",
       "<table id=\"T_6e52c\">\n",
       "  <thead>\n",
       "    <tr>\n",
       "      <th id=\"T_6e52c_level0_col0\" class=\"col_heading level0 col0\" >original_title</th>\n",
       "      <th id=\"T_6e52c_level0_col1\" class=\"col_heading level0 col1\" >popularity</th>\n",
       "      <th id=\"T_6e52c_level0_col2\" class=\"col_heading level0 col2\" >vote_count</th>\n",
       "      <th id=\"T_6e52c_level0_col3\" class=\"col_heading level0 col3\" >popularity_count_ratio</th>\n",
       "    </tr>\n",
       "  </thead>\n",
       "  <tbody>\n",
       "    <tr>\n",
       "      <td id=\"T_6e52c_row0_col0\" class=\"data row0 col0\" >G.B.F.</td>\n",
       "      <td id=\"T_6e52c_row0_col1\" class=\"data row0 col1\" >0.000620</td>\n",
       "      <td id=\"T_6e52c_row0_col2\" class=\"data row0 col2\" >0.000082</td>\n",
       "      <td id=\"T_6e52c_row0_col3\" class=\"data row0 col3\" >13.23%</td>\n",
       "    </tr>\n",
       "    <tr>\n",
       "      <td id=\"T_6e52c_row1_col0\" class=\"data row1 col0\" >The Hospital</td>\n",
       "      <td id=\"T_6e52c_row1_col1\" class=\"data row1 col1\" >0.000188</td>\n",
       "      <td id=\"T_6e52c_row1_col2\" class=\"data row1 col2\" >0.000010</td>\n",
       "      <td id=\"T_6e52c_row1_col3\" class=\"data row1 col3\" >5.32%</td>\n",
       "    </tr>\n",
       "    <tr>\n",
       "      <td id=\"T_6e52c_row2_col0\" class=\"data row2 col0\" >The Internship</td>\n",
       "      <td id=\"T_6e52c_row2_col1\" class=\"data row2 col1\" >0.040858</td>\n",
       "      <td id=\"T_6e52c_row2_col2\" class=\"data row2 col2\" >0.001174</td>\n",
       "      <td id=\"T_6e52c_row2_col3\" class=\"data row2 col3\" >2.87%</td>\n",
       "    </tr>\n",
       "    <tr>\n",
       "      <td id=\"T_6e52c_row3_col0\" class=\"data row3 col0\" >X-Men: First Class</td>\n",
       "      <td id=\"T_6e52c_row3_col1\" class=\"data row3 col1\" >0.164515</td>\n",
       "      <td id=\"T_6e52c_row3_col2\" class=\"data row3 col2\" >0.003651</td>\n",
       "      <td id=\"T_6e52c_row3_col3\" class=\"data row3 col3\" >2.22%</td>\n",
       "    </tr>\n",
       "    <tr>\n",
       "      <td id=\"T_6e52c_row4_col0\" class=\"data row4 col0\" >X-Men</td>\n",
       "      <td id=\"T_6e52c_row4_col1\" class=\"data row4 col1\" >0.182246</td>\n",
       "      <td id=\"T_6e52c_row4_col2\" class=\"data row4 col2\" >0.002766</td>\n",
       "      <td id=\"T_6e52c_row4_col3\" class=\"data row4 col3\" >1.52%</td>\n",
       "    </tr>\n",
       "    <tr>\n",
       "      <td id=\"T_6e52c_row5_col0\" class=\"data row5 col0\" >X-Men: The Last Stand</td>\n",
       "      <td id=\"T_6e52c_row5_col1\" class=\"data row5 col1\" >0.157586</td>\n",
       "      <td id=\"T_6e52c_row5_col2\" class=\"data row5 col2\" >0.002381</td>\n",
       "      <td id=\"T_6e52c_row5_col3\" class=\"data row5 col3\" >1.51%</td>\n",
       "    </tr>\n",
       "    <tr>\n",
       "      <td id=\"T_6e52c_row6_col0\" class=\"data row6 col0\" >Mon petit doigt m'a dit...</td>\n",
       "      <td id=\"T_6e52c_row6_col1\" class=\"data row6 col1\" >0.000973</td>\n",
       "      <td id=\"T_6e52c_row6_col2\" class=\"data row6 col2\" >0.000013</td>\n",
       "      <td id=\"T_6e52c_row6_col3\" class=\"data row6 col3\" >1.34%</td>\n",
       "    </tr>\n",
       "    <tr>\n",
       "      <td id=\"T_6e52c_row7_col0\" class=\"data row7 col0\" >X2</td>\n",
       "      <td id=\"T_6e52c_row7_col1\" class=\"data row7 col1\" >0.175002</td>\n",
       "      <td id=\"T_6e52c_row7_col2\" class=\"data row7 col2\" >0.002222</td>\n",
       "      <td id=\"T_6e52c_row7_col3\" class=\"data row7 col3\" >1.27%</td>\n",
       "    </tr>\n",
       "    <tr>\n",
       "      <td id=\"T_6e52c_row8_col0\" class=\"data row8 col0\" >The Invisible War</td>\n",
       "      <td id=\"T_6e52c_row8_col1\" class=\"data row8 col1\" >0.001372</td>\n",
       "      <td id=\"T_6e52c_row8_col2\" class=\"data row8 col2\" >0.000017</td>\n",
       "      <td id=\"T_6e52c_row8_col3\" class=\"data row8 col3\" >1.24%</td>\n",
       "    </tr>\n",
       "    <tr>\n",
       "      <td id=\"T_6e52c_row9_col0\" class=\"data row9 col0\" >The Starving Games</td>\n",
       "      <td id=\"T_6e52c_row9_col1\" class=\"data row9 col1\" >0.015247</td>\n",
       "      <td id=\"T_6e52c_row9_col2\" class=\"data row9 col2\" >0.000151</td>\n",
       "      <td id=\"T_6e52c_row9_col3\" class=\"data row9 col3\" >0.99%</td>\n",
       "    </tr>\n",
       "    <tr>\n",
       "      <td id=\"T_6e52c_row10_col0\" class=\"data row10 col0\" >Fuera de carta</td>\n",
       "      <td id=\"T_6e52c_row10_col1\" class=\"data row10 col1\" >0.001317</td>\n",
       "      <td id=\"T_6e52c_row10_col2\" class=\"data row10 col2\" >0.000013</td>\n",
       "      <td id=\"T_6e52c_row10_col3\" class=\"data row10 col3\" >0.99%</td>\n",
       "    </tr>\n",
       "    <tr>\n",
       "      <td id=\"T_6e52c_row11_col0\" class=\"data row11 col0\" >Home Alone</td>\n",
       "      <td id=\"T_6e52c_row11_col1\" class=\"data row11 col1\" >0.142486</td>\n",
       "      <td id=\"T_6e52c_row11_col2\" class=\"data row11 col2\" >0.001393</td>\n",
       "      <td id=\"T_6e52c_row11_col3\" class=\"data row11 col3\" >0.98%</td>\n",
       "    </tr>\n",
       "    <tr>\n",
       "      <td id=\"T_6e52c_row12_col0\" class=\"data row12 col0\" >Khosla Ka Ghosla!</td>\n",
       "      <td id=\"T_6e52c_row12_col1\" class=\"data row12 col1\" >0.001115</td>\n",
       "      <td id=\"T_6e52c_row12_col2\" class=\"data row12 col2\" >0.000010</td>\n",
       "      <td id=\"T_6e52c_row12_col3\" class=\"data row12 col3\" >0.9%</td>\n",
       "    </tr>\n",
       "    <tr>\n",
       "      <td id=\"T_6e52c_row13_col0\" class=\"data row13 col0\" >Fast & Furious 6</td>\n",
       "      <td id=\"T_6e52c_row13_col1\" class=\"data row13 col1\" >0.522347</td>\n",
       "      <td id=\"T_6e52c_row13_col2\" class=\"data row13 col2\" >0.004368</td>\n",
       "      <td id=\"T_6e52c_row13_col3\" class=\"data row13 col3\" >0.84%</td>\n",
       "    </tr>\n",
       "    <tr>\n",
       "      <td id=\"T_6e52c_row14_col0\" class=\"data row14 col0\" >Jurassic Park III</td>\n",
       "      <td id=\"T_6e52c_row14_col1\" class=\"data row14 col1\" >0.167033</td>\n",
       "      <td id=\"T_6e52c_row14_col2\" class=\"data row14 col2\" >0.001366</td>\n",
       "      <td id=\"T_6e52c_row14_col3\" class=\"data row14 col3\" >0.82%</td>\n",
       "    </tr>\n",
       "    <tr>\n",
       "      <td id=\"T_6e52c_row15_col0\" class=\"data row15 col0\" >Atlantic Rim</td>\n",
       "      <td id=\"T_6e52c_row15_col1\" class=\"data row15 col1\" >0.002648</td>\n",
       "      <td id=\"T_6e52c_row15_col2\" class=\"data row15 col2\" >0.000021</td>\n",
       "      <td id=\"T_6e52c_row15_col3\" class=\"data row15 col3\" >0.79%</td>\n",
       "    </tr>\n",
       "    <tr>\n",
       "      <td id=\"T_6e52c_row16_col0\" class=\"data row16 col0\" >The Lost World: Jurassic Park</td>\n",
       "      <td id=\"T_6e52c_row16_col1\" class=\"data row16 col1\" >0.210550</td>\n",
       "      <td id=\"T_6e52c_row16_col2\" class=\"data row16 col2\" >0.001655</td>\n",
       "      <td id=\"T_6e52c_row16_col3\" class=\"data row16 col3\" >0.79%</td>\n",
       "    </tr>\n",
       "    <tr>\n",
       "      <td id=\"T_6e52c_row17_col0\" class=\"data row17 col0\" >Circle of Eight</td>\n",
       "      <td id=\"T_6e52c_row17_col1\" class=\"data row17 col1\" >0.001423</td>\n",
       "      <td id=\"T_6e52c_row17_col2\" class=\"data row17 col2\" >0.000011</td>\n",
       "      <td id=\"T_6e52c_row17_col3\" class=\"data row17 col3\" >0.77%</td>\n",
       "    </tr>\n",
       "    <tr>\n",
       "      <td id=\"T_6e52c_row18_col0\" class=\"data row18 col0\" >X-Men Origins: Wolverine</td>\n",
       "      <td id=\"T_6e52c_row18_col1\" class=\"data row18 col1\" >0.391859</td>\n",
       "      <td id=\"T_6e52c_row18_col2\" class=\"data row18 col2\" >0.002784</td>\n",
       "      <td id=\"T_6e52c_row18_col3\" class=\"data row18 col3\" >0.71%</td>\n",
       "    </tr>\n",
       "    <tr>\n",
       "      <td id=\"T_6e52c_row19_col0\" class=\"data row19 col0\" >Embrace of the Vampire</td>\n",
       "      <td id=\"T_6e52c_row19_col1\" class=\"data row19 col1\" >0.002719</td>\n",
       "      <td id=\"T_6e52c_row19_col2\" class=\"data row19 col2\" >0.000019</td>\n",
       "      <td id=\"T_6e52c_row19_col3\" class=\"data row19 col3\" >0.7%</td>\n",
       "    </tr>\n",
       "  </tbody>\n",
       "</table>\n"
      ],
      "text/plain": [
       "<pandas.io.formats.style.Styler at 0x1e9587ee380>"
      ]
     },
     "execution_count": 116,
     "metadata": {},
     "output_type": "execute_result"
    }
   ],
   "source": [
    "# Let's calculate the rate first\n",
    "ratio_rank = tmdb.assign(popularity_count_ratio=lambda x: x.vote_count / x.popularity) \\\n",
    "            .sort_values('popularity_count_ratio', ascending=False, axis=0).head(20)\n",
    "\n",
    "ratio_rank.popularity_count_ratio = ratio_rank.popularity_count_ratio.apply(lambda x: f\"{round(x * 100, 2)}%\")\n",
    "\n",
    "ratio_rank[['original_title', 'popularity', 'vote_count', 'popularity_count_ratio']].style.hide(axis='index')"
   ]
  },
  {
   "cell_type": "markdown",
   "metadata": {},
   "source": [
    "From the above result we can easily deduce, popular movies don't get reviewed most often."
   ]
  },
  {
   "cell_type": "markdown",
   "metadata": {},
   "source": [
    "<h3 id=\"director_questions\">Director related Questions</h3>"
   ]
  },
  {
   "cell_type": "markdown",
   "metadata": {},
   "source": [
    "Let's try to address the Director related questions. Since the `director` column is a multiple value column separated by `|`, we need to take care of it before we start processing."
   ]
  },
  {
   "cell_type": "code",
   "execution_count": 117,
   "metadata": {},
   "outputs": [
    {
     "data": {
      "text/plain": [
       "id\n",
       "207933          Brad Anderson\n",
       "84165             Julie Delpy\n",
       "103173          Fumihiko Sori\n",
       "331592         Khalil Sullins\n",
       "116613              Nick Love\n",
       "237584        William Monahan\n",
       "38167             Ryan Murphy\n",
       "12211     Douglas Aarniokoski\n",
       "258805             Huck Botko\n",
       "193              David Carson\n",
       "Name: director, dtype: object"
      ]
     },
     "execution_count": 117,
     "metadata": {},
     "output_type": "execute_result"
    }
   ],
   "source": [
    "tmdb.director.sample(10)"
   ]
  },
  {
   "cell_type": "markdown",
   "metadata": {},
   "source": [
    "The above result proves us right, the data point with the id of `170194` has two directors separated by `|`.  \n",
    "  \n",
    "To smoothen `director` column we need to expand director column values in to multiple rows. The result we are expecting will be as follows:\n",
    "| id | Director|\n",
    "|-------|--------|\n",
    "| 170194 | John O. Hartman |\n",
    "| 170194 | Nicholas Mross |\n",
    "\n",
    "The same movie expanded to two different directors.  \n",
    "  \n",
    "To achieve such result, we need to follow the following steps:\n",
    "1. Split the `director` column string values by `|`\n",
    "2. Explode the whole dataset on `director` column\n",
    "  \n",
    "**NOTE**: When we perform expand operation our dataset size will graw."
   ]
  },
  {
   "cell_type": "code",
   "execution_count": 118,
   "metadata": {},
   "outputs": [],
   "source": [
    "tmdb_cpy = tmdb.copy()"
   ]
  },
  {
   "cell_type": "markdown",
   "metadata": {},
   "source": [
    "Before we begin anything, let's first check the size of our dataset"
   ]
  },
  {
   "cell_type": "code",
   "execution_count": 119,
   "metadata": {},
   "outputs": [
    {
     "data": {
      "text/plain": [
       "(8827, 16)"
      ]
     },
     "execution_count": 119,
     "metadata": {},
     "output_type": "execute_result"
    }
   ],
   "source": [
    "tmdb.shape"
   ]
  },
  {
   "cell_type": "code",
   "execution_count": 120,
   "metadata": {},
   "outputs": [
    {
     "data": {
      "text/plain": [
       "id\n",
       "135397     [Colin Trevorrow]\n",
       "76341        [George Miller]\n",
       "262500    [Robert Schwentke]\n",
       "140607         [J.J. Abrams]\n",
       "168259           [James Wan]\n",
       "Name: director, dtype: object"
      ]
     },
     "execution_count": 120,
     "metadata": {},
     "output_type": "execute_result"
    }
   ],
   "source": [
    "# Step 1: splitting\n",
    "tmdb.director = tmdb.director.str.split(\"|\")\n",
    "tmdb.director.head()"
   ]
  },
  {
   "cell_type": "markdown",
   "metadata": {},
   "source": [
    "From the above output, we can clearly see the results of the `director` column changed to the list.  \n",
    "  \n",
    "Now let's explode the dataframe on the `director` column as follows:"
   ]
  },
  {
   "cell_type": "code",
   "execution_count": 121,
   "metadata": {},
   "outputs": [
    {
     "data": {
      "text/plain": [
       "id\n",
       "135397     Colin Trevorrow\n",
       "76341        George Miller\n",
       "262500    Robert Schwentke\n",
       "140607         J.J. Abrams\n",
       "168259           James Wan\n",
       "Name: director, dtype: object"
      ]
     },
     "execution_count": 121,
     "metadata": {},
     "output_type": "execute_result"
    }
   ],
   "source": [
    "# Step 2: exploding the whole dataset\n",
    "director_df = tmdb.explode('director')\n",
    "director_df.director.head()"
   ]
  },
  {
   "cell_type": "markdown",
   "metadata": {},
   "source": [
    "Let's check the shape of our dataframe."
   ]
  },
  {
   "cell_type": "code",
   "execution_count": 122,
   "metadata": {},
   "outputs": [
    {
     "data": {
      "text/plain": [
       "(9633, 16)"
      ]
     },
     "execution_count": 122,
     "metadata": {},
     "output_type": "execute_result"
    }
   ],
   "source": [
    "director_df.shape"
   ]
  },
  {
   "cell_type": "markdown",
   "metadata": {},
   "source": [
    "We can witness that our dataset graw from `8827` to `9633`"
   ]
  },
  {
   "cell_type": "markdown",
   "metadata": {},
   "source": [
    "**Q#1. Who is the most popular Director?**\n",
    "- How many movies he/she directed?\n",
    "- What are his/her top 5 commercially successful and flopped movies?\n",
    "- What year was his/her most popular movie released?"
   ]
  },
  {
   "cell_type": "markdown",
   "metadata": {},
   "source": [
    "Let's find out who is the most popular director"
   ]
  },
  {
   "cell_type": "code",
   "execution_count": 151,
   "metadata": {},
   "outputs": [
    {
     "data": {
      "text/plain": [
       "'Colin Trevorrow'"
      ]
     },
     "execution_count": 151,
     "metadata": {},
     "output_type": "execute_result"
    }
   ],
   "source": [
    "popular_director = director_df.groupby('director')['popularity'].mean().idxmax()\n",
    "popular_director"
   ]
  },
  {
   "cell_type": "markdown",
   "metadata": {},
   "source": [
    "We found out that `Colin Trevorrow` is the most popular director. Let's prove that is true."
   ]
  },
  {
   "cell_type": "code",
   "execution_count": 166,
   "metadata": {},
   "outputs": [
    {
     "data": {
      "text/html": [
       "<style type=\"text/css\">\n",
       "</style>\n",
       "<table id=\"T_f1876\">\n",
       "  <thead>\n",
       "    <tr>\n",
       "      <th class=\"blank level0\" >&nbsp;</th>\n",
       "      <th id=\"T_f1876_level0_col0\" class=\"col_heading level0 col0\" >popularity</th>\n",
       "      <th id=\"T_f1876_level0_col3\" class=\"col_heading level0 col3\" >original_title</th>\n",
       "      <th id=\"T_f1876_level0_col5\" class=\"col_heading level0 col5\" >director</th>\n",
       "      <th id=\"T_f1876_level0_col6\" class=\"col_heading level0 col6\" >runtime</th>\n",
       "      <th id=\"T_f1876_level0_col7\" class=\"col_heading level0 col7\" >genres</th>\n",
       "      <th id=\"T_f1876_level0_col9\" class=\"col_heading level0 col9\" >release_date</th>\n",
       "      <th id=\"T_f1876_level0_col11\" class=\"col_heading level0 col11\" >vote_average</th>\n",
       "      <th id=\"T_f1876_level0_col12\" class=\"col_heading level0 col12\" >release_year</th>\n",
       "      <th id=\"T_f1876_level0_col13\" class=\"col_heading level0 col13\" >net_profit</th>\n",
       "    </tr>\n",
       "    <tr>\n",
       "      <th class=\"index_name level0\" >id</th>\n",
       "      <th class=\"blank col0\" >&nbsp;</th>\n",
       "      <th class=\"blank col3\" >&nbsp;</th>\n",
       "      <th class=\"blank col5\" >&nbsp;</th>\n",
       "      <th class=\"blank col6\" >&nbsp;</th>\n",
       "      <th class=\"blank col7\" >&nbsp;</th>\n",
       "      <th class=\"blank col9\" >&nbsp;</th>\n",
       "      <th class=\"blank col11\" >&nbsp;</th>\n",
       "      <th class=\"blank col12\" >&nbsp;</th>\n",
       "      <th class=\"blank col13\" >&nbsp;</th>\n",
       "    </tr>\n",
       "  </thead>\n",
       "  <tbody>\n",
       "    <tr>\n",
       "      <th id=\"T_f1876_level0_row0\" class=\"row_heading level0 row0\" >135397</th>\n",
       "      <td id=\"T_f1876_row0_col0\" class=\"data row0 col0\" >32.985763</td>\n",
       "      <td id=\"T_f1876_row0_col3\" class=\"data row0 col3\" >Jurassic World</td>\n",
       "      <td id=\"T_f1876_row0_col5\" class=\"data row0 col5\" >Colin Trevorrow</td>\n",
       "      <td id=\"T_f1876_row0_col6\" class=\"data row0 col6\" >124.000000</td>\n",
       "      <td id=\"T_f1876_row0_col7\" class=\"data row0 col7\" >Action|Adventure|Science Fiction|Thriller</td>\n",
       "      <td id=\"T_f1876_row0_col9\" class=\"data row0 col9\" >2015-06-09 00:00:00</td>\n",
       "      <td id=\"T_f1876_row0_col11\" class=\"data row0 col11\" >6.500000</td>\n",
       "      <td id=\"T_f1876_row0_col12\" class=\"data row0 col12\" >2015</td>\n",
       "      <td id=\"T_f1876_row0_col13\" class=\"data row0 col13\" >1363528810.000000</td>\n",
       "    </tr>\n",
       "    <tr>\n",
       "      <th id=\"T_f1876_level0_row1\" class=\"row_heading level0 row1\" >84332</th>\n",
       "      <td id=\"T_f1876_row1_col0\" class=\"data row1 col0\" >0.408010</td>\n",
       "      <td id=\"T_f1876_row1_col3\" class=\"data row1 col3\" >Safety Not Guaranteed</td>\n",
       "      <td id=\"T_f1876_row1_col5\" class=\"data row1 col5\" >Colin Trevorrow</td>\n",
       "      <td id=\"T_f1876_row1_col6\" class=\"data row1 col6\" >85.000000</td>\n",
       "      <td id=\"T_f1876_row1_col7\" class=\"data row1 col7\" >Comedy|Romance|Science Fiction|Drama</td>\n",
       "      <td id=\"T_f1876_row1_col9\" class=\"data row1 col9\" >2012-06-08 00:00:00</td>\n",
       "      <td id=\"T_f1876_row1_col11\" class=\"data row1 col11\" >6.700000</td>\n",
       "      <td id=\"T_f1876_row1_col12\" class=\"data row1 col12\" >2012</td>\n",
       "      <td id=\"T_f1876_row1_col13\" class=\"data row1 col13\" >3257792.000000</td>\n",
       "    </tr>\n",
       "  </tbody>\n",
       "</table>\n"
      ],
      "text/plain": [
       "<pandas.io.formats.style.Styler at 0x1e95dde7670>"
      ]
     },
     "execution_count": 166,
     "metadata": {},
     "output_type": "execute_result"
    }
   ],
   "source": [
    "# Filtering Colin Movies\n",
    "colin_movies = director_df[director_df['director'] == 'Colin Trevorrow']\n",
    "colin_movies.style.hide(['budget', 'revenue', 'cast', 'production_companies', 'vote_count', 'popularity_rank', 'net_profit_rank'], axis='columns')"
   ]
  },
  {
   "cell_type": "markdown",
   "metadata": {},
   "source": [
    "From the above result, we prove that he directed the one and only most popular movie in the whole dataset"
   ]
  },
  {
   "cell_type": "markdown",
   "metadata": {},
   "source": [
    "**Q#2. Who is the Director with maximum number of Movies Directed?**"
   ]
  },
  {
   "cell_type": "markdown",
   "metadata": {},
   "source": [
    "**Q#2. How many movies a director direct per year?**\n",
    "- What are the proportions of their success and flop?"
   ]
  },
  {
   "cell_type": "markdown",
   "metadata": {},
   "source": [
    "<h3 id=\"runtime_questions\">Runtime Related Questions</h3>"
   ]
  },
  {
   "cell_type": "markdown",
   "metadata": {},
   "source": [
    "**Q#1. What is the runtime for most popular movies and flopped ones?**"
   ]
  },
  {
   "cell_type": "markdown",
   "metadata": {},
   "source": [
    "**Q#2. Which movies got high revenue as compared to the same runtime movies?**\n"
   ]
  },
  {
   "cell_type": "markdown",
   "metadata": {},
   "source": [
    "**Q#3. Which runtime got a better rate?**\n"
   ]
  },
  {
   "cell_type": "markdown",
   "metadata": {},
   "source": [
    "**Q#4. Average runtime of movies each year?**\n"
   ]
  },
  {
   "cell_type": "markdown",
   "metadata": {},
   "source": [
    "**Q#5. What is runtime's average popularity rate?**"
   ]
  },
  {
   "cell_type": "markdown",
   "metadata": {},
   "source": [
    "<h3 id=\"genre_questions\">Genre Related Questions</h3>"
   ]
  },
  {
   "cell_type": "markdown",
   "metadata": {},
   "source": [
    "**Q#1. Which genres are most popular?**"
   ]
  },
  {
   "cell_type": "markdown",
   "metadata": {},
   "source": [
    "**Q#2. Which genres are more successful and flopped?**\n"
   ]
  },
  {
   "cell_type": "markdown",
   "metadata": {},
   "source": [
    "**Q#3. What is genre's average vote rate?**\n"
   ]
  },
  {
   "cell_type": "markdown",
   "metadata": {},
   "source": [
    "**Q#4. What genre is popular each year?**\n"
   ]
  },
  {
   "cell_type": "markdown",
   "metadata": {},
   "source": [
    "**Q#5. How many the same genre movies released each year?**"
   ]
  },
  {
   "cell_type": "markdown",
   "metadata": {},
   "source": [
    "**Q#6. Which genre have had the highest movies released each year?**"
   ]
  },
  {
   "cell_type": "markdown",
   "metadata": {},
   "source": [
    "<h3 id=\"company_questions\">Production Company Related Questions</h3>"
   ]
  },
  {
   "cell_type": "markdown",
   "metadata": {},
   "source": [
    "**Q#1. Which production companies are most popular?**"
   ]
  },
  {
   "cell_type": "markdown",
   "metadata": {},
   "source": [
    "**Q#2. What are the proportion of successful and flopped movies produced?**\n"
   ]
  },
  {
   "cell_type": "markdown",
   "metadata": {},
   "source": [
    "**Q#3. How many movies a production company produce per year?**"
   ]
  },
  {
   "cell_type": "markdown",
   "metadata": {},
   "source": [
    "<h3 id=\"budget_questions\">Budget and Revenue Related Questions</h4>"
   ]
  },
  {
   "cell_type": "markdown",
   "metadata": {},
   "source": [
    "Before answering each questions, let's visualize the histogram"
   ]
  },
  {
   "cell_type": "code",
   "execution_count": 123,
   "metadata": {},
   "outputs": [
    {
     "data": {
      "image/png": "[encoded data removed]",
      "text/plain": [
       "<Figure size 1152x576 with 2 Axes>"
      ]
     },
     "metadata": {},
     "output_type": "display_data"
    }
   ],
   "source": [
    "fig, ax = plt.subplots(nrows=1, ncols=2, figsize=(16, 8))\n",
    "ax[0].hist(tmdb.budget, bins=20)\n",
    "ax[0].set_title('Budget Column Histogram', fontsize=14)\n",
    "\n",
    "ax[1].hist(tmdb.revenue, bins=20)\n",
    "ax[1].set_title('Revenue Column Histogram', fontsize=14);"
   ]
  },
  {
   "cell_type": "markdown",
   "metadata": {},
   "source": [
    "Let's address each questions one by one"
   ]
  },
  {
   "cell_type": "markdown",
   "metadata": {},
   "source": [
    "**Q#1. What is the average budget for both commercial successful as well as flopped movies?**\n",
    "  \n",
    "Let's answer the question using the already prepared `successful` and `flopped` dataset"
   ]
  },
  {
   "cell_type": "code",
   "execution_count": null,
   "metadata": {},
   "outputs": [],
   "source": [
    "fig, ax = plt.subplots(figsize=(8, 8))\n",
    "\n",
    "# Let's plot the bar chart\n",
    "ax.bar([1, 2], [flopped.budget.mean(), successful.budget.mean()], color=['#885053', '#777DA7'])\n",
    "ax.set_ylabel('Budget')\n",
    "ax.set_xticks([1, 2], ['Flopped', 'Successful'])\n",
    "\n",
    "plt.suptitle(\"Successful vs Flopped Movies Average Budget\", fontsize=18);\n",
    "# Which movie has the highest `net_profit` to `budget` proportion"
   ]
  },
  {
   "cell_type": "markdown",
   "metadata": {},
   "source": [
    "**Q#2. How much percent of the Movies are Commercially successful as well as Flopped?**  \n",
    "  \n",
    "Using the above already filtered data, we can calculate the percent"
   ]
  },
  {
   "cell_type": "code",
   "execution_count": 126,
   "metadata": {},
   "outputs": [
    {
     "data": {
      "image/png": "[encoded data removed]",
      "text/plain": [
       "<Figure size 576x576 with 1 Axes>"
      ]
     },
     "metadata": {},
     "output_type": "display_data"
    }
   ],
   "source": [
    "fig, ax = plt.subplots(figsize=(8, 8))\n",
    "# Let's plot pie chart\n",
    "plt.pie(\n",
    "    [flopped.shape[0], successful.shape[0], tmdb.shape[0] - flopped.shape[0] - successful.shape[0]],\n",
    "    labels=['Flopped', 'Successful', 'Remaining'],\n",
    "    colors=['#885053', '#777DA7', '#94c9a9ff'], autopct='%.1f%%',\n",
    "    wedgeprops={'linewidth': 3.0, 'edgecolor': 'white'},\n",
    "    textprops={'size': 'x-large'},\n",
    "    startangle=90)\n",
    "plt.tight_layout()\n",
    "\n",
    "plt.suptitle(\"Flopped vs Successful Movies Proportion\", fontsize=18);"
   ]
  },
  {
   "cell_type": "markdown",
   "metadata": {},
   "source": [
    "**Q#3. What are the features associated with high revenue?**\n",
    "- What are their relationship with Production Company, Budget, Director, and Cast features?"
   ]
  },
  {
   "cell_type": "markdown",
   "metadata": {},
   "source": [
    "**Q#4. Does having more budget mean getting more popularity?**"
   ]
  },
  {
   "cell_type": "code",
   "execution_count": 127,
   "metadata": {},
   "outputs": [
    {
     "data": {
      "text/html": [
       "<style type=\"text/css\">\n",
       "</style>\n",
       "<table id=\"T_7f88d\">\n",
       "  <thead>\n",
       "    <tr>\n",
       "      <th id=\"T_7f88d_level0_col0\" class=\"col_heading level0 col0\" >budget</th>\n",
       "      <th id=\"T_7f88d_level0_col1\" class=\"col_heading level0 col1\" >popularity</th>\n",
       "      <th id=\"T_7f88d_level0_col2\" class=\"col_heading level0 col2\" >popularity_rank</th>\n",
       "    </tr>\n",
       "  </thead>\n",
       "  <tbody>\n",
       "    <tr>\n",
       "      <td id=\"T_7f88d_row0_col0\" class=\"data row0 col0\" >425000000.000000</td>\n",
       "      <td id=\"T_7f88d_row0_col1\" class=\"data row0 col1\" >0.250540</td>\n",
       "      <td id=\"T_7f88d_row0_col2\" class=\"data row0 col2\" >6349</td>\n",
       "    </tr>\n",
       "    <tr>\n",
       "      <td id=\"T_7f88d_row1_col0\" class=\"data row1 col0\" >380000000.000000</td>\n",
       "      <td id=\"T_7f88d_row1_col1\" class=\"data row1 col1\" >4.955130</td>\n",
       "      <td id=\"T_7f88d_row1_col2\" class=\"data row1 col2\" >87</td>\n",
       "    </tr>\n",
       "    <tr>\n",
       "      <td id=\"T_7f88d_row2_col0\" class=\"data row2 col0\" >300000000.000000</td>\n",
       "      <td id=\"T_7f88d_row2_col1\" class=\"data row2 col1\" >4.965391</td>\n",
       "      <td id=\"T_7f88d_row2_col2\" class=\"data row2 col2\" >86</td>\n",
       "    </tr>\n",
       "    <tr>\n",
       "      <td id=\"T_7f88d_row3_col0\" class=\"data row3 col0\" >280000000.000000</td>\n",
       "      <td id=\"T_7f88d_row3_col1\" class=\"data row3 col1\" >5.944927</td>\n",
       "      <td id=\"T_7f88d_row3_col2\" class=\"data row3 col2\" >55</td>\n",
       "    </tr>\n",
       "    <tr>\n",
       "      <td id=\"T_7f88d_row4_col0\" class=\"data row4 col0\" >270000000.000000</td>\n",
       "      <td id=\"T_7f88d_row4_col1\" class=\"data row4 col1\" >1.957331</td>\n",
       "      <td id=\"T_7f88d_row4_col2\" class=\"data row4 col2\" >573</td>\n",
       "    </tr>\n",
       "    <tr>\n",
       "      <td id=\"T_7f88d_row5_col0\" class=\"data row5 col0\" >260000000.000000</td>\n",
       "      <td id=\"T_7f88d_row5_col1\" class=\"data row5 col1\" >1.588457</td>\n",
       "      <td id=\"T_7f88d_row5_col2\" class=\"data row5 col2\" >832</td>\n",
       "    </tr>\n",
       "    <tr>\n",
       "      <td id=\"T_7f88d_row6_col0\" class=\"data row6 col0\" >260000000.000000</td>\n",
       "      <td id=\"T_7f88d_row6_col1\" class=\"data row6 col1\" >2.865684</td>\n",
       "      <td id=\"T_7f88d_row6_col2\" class=\"data row6 col2\" >281</td>\n",
       "    </tr>\n",
       "    <tr>\n",
       "      <td id=\"T_7f88d_row7_col0\" class=\"data row7 col0\" >258000000.000000</td>\n",
       "      <td id=\"T_7f88d_row7_col1\" class=\"data row7 col1\" >2.520912</td>\n",
       "      <td id=\"T_7f88d_row7_col2\" class=\"data row7 col2\" >368</td>\n",
       "    </tr>\n",
       "    <tr>\n",
       "      <td id=\"T_7f88d_row8_col0\" class=\"data row8 col0\" >255000000.000000</td>\n",
       "      <td id=\"T_7f88d_row8_col1\" class=\"data row8 col1\" >1.214510</td>\n",
       "      <td id=\"T_7f88d_row8_col2\" class=\"data row8 col2\" >1248</td>\n",
       "    </tr>\n",
       "    <tr>\n",
       "      <td id=\"T_7f88d_row9_col0\" class=\"data row9 col0\" >250000000.000000</td>\n",
       "      <td id=\"T_7f88d_row9_col1\" class=\"data row9 col1\" >5.076472</td>\n",
       "      <td id=\"T_7f88d_row9_col2\" class=\"data row9 col2\" >83</td>\n",
       "    </tr>\n",
       "    <tr>\n",
       "      <td id=\"T_7f88d_row10_col0\" class=\"data row10 col0\" >250000000.000000</td>\n",
       "      <td id=\"T_7f88d_row10_col1\" class=\"data row10 col1\" >4.310786</td>\n",
       "      <td id=\"T_7f88d_row10_col2\" class=\"data row10 col2\" >120</td>\n",
       "    </tr>\n",
       "    <tr>\n",
       "      <td id=\"T_7f88d_row11_col0\" class=\"data row11 col0\" >250000000.000000</td>\n",
       "      <td id=\"T_7f88d_row11_col1\" class=\"data row11 col1\" >4.218933</td>\n",
       "      <td id=\"T_7f88d_row11_col2\" class=\"data row11 col2\" >123</td>\n",
       "    </tr>\n",
       "    <tr>\n",
       "      <td id=\"T_7f88d_row12_col0\" class=\"data row12 col0\" >250000000.000000</td>\n",
       "      <td id=\"T_7f88d_row12_col1\" class=\"data row12 col1\" >6.052479</td>\n",
       "      <td id=\"T_7f88d_row12_col2\" class=\"data row12 col2\" >51</td>\n",
       "    </tr>\n",
       "    <tr>\n",
       "      <td id=\"T_7f88d_row13_col0\" class=\"data row13 col0\" >250000000.000000</td>\n",
       "      <td id=\"T_7f88d_row13_col1\" class=\"data row13 col1\" >10.174599</td>\n",
       "      <td id=\"T_7f88d_row13_col2\" class=\"data row13 col2\" >11</td>\n",
       "    </tr>\n",
       "    <tr>\n",
       "      <td id=\"T_7f88d_row14_col0\" class=\"data row14 col0\" >250000000.000000</td>\n",
       "      <td id=\"T_7f88d_row14_col1\" class=\"data row14 col1\" >6.591277</td>\n",
       "      <td id=\"T_7f88d_row14_col2\" class=\"data row14 col2\" >38</td>\n",
       "    </tr>\n",
       "    <tr>\n",
       "      <td id=\"T_7f88d_row15_col0\" class=\"data row15 col0\" >250000000.000000</td>\n",
       "      <td id=\"T_7f88d_row15_col1\" class=\"data row15 col1\" >4.840588</td>\n",
       "      <td id=\"T_7f88d_row15_col2\" class=\"data row15 col2\" >97</td>\n",
       "    </tr>\n",
       "    <tr>\n",
       "      <td id=\"T_7f88d_row16_col0\" class=\"data row16 col0\" >245000000.000000</td>\n",
       "      <td id=\"T_7f88d_row16_col1\" class=\"data row16 col1\" >6.200282</td>\n",
       "      <td id=\"T_7f88d_row16_col2\" class=\"data row16 col2\" >43</td>\n",
       "    </tr>\n",
       "    <tr>\n",
       "      <td id=\"T_7f88d_row17_col0\" class=\"data row17 col0\" >237000000.000000</td>\n",
       "      <td id=\"T_7f88d_row17_col1\" class=\"data row17 col1\" >9.432768</td>\n",
       "      <td id=\"T_7f88d_row17_col2\" class=\"data row17 col2\" >12</td>\n",
       "    </tr>\n",
       "    <tr>\n",
       "      <td id=\"T_7f88d_row18_col0\" class=\"data row18 col0\" >225000000.000000</td>\n",
       "      <td id=\"T_7f88d_row18_col1\" class=\"data row18 col1\" >1.628345</td>\n",
       "      <td id=\"T_7f88d_row18_col2\" class=\"data row18 col2\" >788</td>\n",
       "    </tr>\n",
       "    <tr>\n",
       "      <td id=\"T_7f88d_row19_col0\" class=\"data row19 col0\" >225000000.000000</td>\n",
       "      <td id=\"T_7f88d_row19_col1\" class=\"data row19 col1\" >3.972460</td>\n",
       "      <td id=\"T_7f88d_row19_col2\" class=\"data row19 col2\" >139</td>\n",
       "    </tr>\n",
       "  </tbody>\n",
       "</table>\n"
      ],
      "text/plain": [
       "<pandas.io.formats.style.Styler at 0x1e95152dde0>"
      ]
     },
     "execution_count": 127,
     "metadata": {},
     "output_type": "execute_result"
    }
   ],
   "source": [
    "tmdb.sort_values('budget', ascending=False, axis=0).head(20) \\\n",
    "    [['budget', 'popularity', 'popularity_rank']].style.hide(axis='index')"
   ]
  },
  {
   "cell_type": "markdown",
   "metadata": {},
   "source": [
    "The above table clearly shows, having more budget doesn't mean more popularity."
   ]
  },
  {
   "cell_type": "markdown",
   "metadata": {},
   "source": [
    "**Q#5. What are the movies that got high revenue proportion to their budget?**"
   ]
  },
  {
   "cell_type": "code",
   "execution_count": 128,
   "metadata": {},
   "outputs": [
    {
     "data": {
      "text/html": [
       "<style type=\"text/css\">\n",
       "</style>\n",
       "<table id=\"T_85862\">\n",
       "  <thead>\n",
       "    <tr>\n",
       "      <th id=\"T_85862_level0_col0\" class=\"col_heading level0 col0\" >original_title</th>\n",
       "      <th id=\"T_85862_level0_col1\" class=\"col_heading level0 col1\" >budget</th>\n",
       "      <th id=\"T_85862_level0_col2\" class=\"col_heading level0 col2\" >net_profit</th>\n",
       "      <th id=\"T_85862_level0_col3\" class=\"col_heading level0 col3\" >net_profit_budget_proportion</th>\n",
       "    </tr>\n",
       "  </thead>\n",
       "  <tbody>\n",
       "    <tr>\n",
       "      <td id=\"T_85862_row0_col0\" class=\"data row0 col0\" >The Karate Kid, Part II</td>\n",
       "      <td id=\"T_85862_row0_col1\" class=\"data row0 col1\" >113.000000</td>\n",
       "      <td id=\"T_85862_row0_col2\" class=\"data row0 col2\" >115103866.000000</td>\n",
       "      <td id=\"T_85862_row0_col3\" class=\"data row0 col3\" >101861828.318584</td>\n",
       "    </tr>\n",
       "    <tr>\n",
       "      <td id=\"T_85862_row1_col0\" class=\"data row1 col0\" >Into the Night</td>\n",
       "      <td id=\"T_85862_row1_col1\" class=\"data row1 col1\" >114.000000</td>\n",
       "      <td id=\"T_85862_row1_col2\" class=\"data row1 col2\" >6699886.000000</td>\n",
       "      <td id=\"T_85862_row1_col3\" class=\"data row1 col3\" >5877092.982456</td>\n",
       "    </tr>\n",
       "    <tr>\n",
       "      <td id=\"T_85862_row2_col0\" class=\"data row2 col0\" >From Prada to Nada</td>\n",
       "      <td id=\"T_85862_row2_col1\" class=\"data row2 col1\" >93.000000</td>\n",
       "      <td id=\"T_85862_row2_col2\" class=\"data row2 col2\" >2499907.000000</td>\n",
       "      <td id=\"T_85862_row2_col3\" class=\"data row2 col3\" >2688072.043011</td>\n",
       "    </tr>\n",
       "    <tr>\n",
       "      <td id=\"T_85862_row3_col0\" class=\"data row3 col0\" >Paranormal Activity</td>\n",
       "      <td id=\"T_85862_row3_col1\" class=\"data row3 col1\" >15000.000000</td>\n",
       "      <td id=\"T_85862_row3_col2\" class=\"data row3 col2\" >193340800.000000</td>\n",
       "      <td id=\"T_85862_row3_col3\" class=\"data row3 col3\" >1288938.666667</td>\n",
       "    </tr>\n",
       "    <tr>\n",
       "      <td id=\"T_85862_row4_col0\" class=\"data row4 col0\" >The Blair Witch Project</td>\n",
       "      <td id=\"T_85862_row4_col1\" class=\"data row4 col1\" >25000.000000</td>\n",
       "      <td id=\"T_85862_row4_col2\" class=\"data row4 col2\" >247975000.000000</td>\n",
       "      <td id=\"T_85862_row4_col3\" class=\"data row4 col3\" >991900.000000</td>\n",
       "    </tr>\n",
       "    <tr>\n",
       "      <td id=\"T_85862_row5_col0\" class=\"data row5 col0\" >Love, Wedding, Marriage</td>\n",
       "      <td id=\"T_85862_row5_col1\" class=\"data row5 col1\" >1.000000</td>\n",
       "      <td id=\"T_85862_row5_col2\" class=\"data row5 col2\" >1377.000000</td>\n",
       "      <td id=\"T_85862_row5_col3\" class=\"data row5 col3\" >137700.000000</td>\n",
       "    </tr>\n",
       "    <tr>\n",
       "      <td id=\"T_85862_row6_col0\" class=\"data row6 col0\" >Eraserhead</td>\n",
       "      <td id=\"T_85862_row6_col1\" class=\"data row6 col1\" >10000.000000</td>\n",
       "      <td id=\"T_85862_row6_col2\" class=\"data row6 col2\" >6990000.000000</td>\n",
       "      <td id=\"T_85862_row6_col3\" class=\"data row6 col3\" >69900.000000</td>\n",
       "    </tr>\n",
       "    <tr>\n",
       "      <td id=\"T_85862_row7_col0\" class=\"data row7 col0\" >Pink Flamingos</td>\n",
       "      <td id=\"T_85862_row7_col1\" class=\"data row7 col1\" >12000.000000</td>\n",
       "      <td id=\"T_85862_row7_col2\" class=\"data row7 col2\" >5988000.000000</td>\n",
       "      <td id=\"T_85862_row7_col3\" class=\"data row7 col3\" >49900.000000</td>\n",
       "    </tr>\n",
       "    <tr>\n",
       "      <td id=\"T_85862_row8_col0\" class=\"data row8 col0\" >Super Size Me</td>\n",
       "      <td id=\"T_85862_row8_col1\" class=\"data row8 col1\" >65000.000000</td>\n",
       "      <td id=\"T_85862_row8_col2\" class=\"data row8 col2\" >28510078.000000</td>\n",
       "      <td id=\"T_85862_row8_col3\" class=\"data row8 col3\" >43861.658462</td>\n",
       "    </tr>\n",
       "    <tr>\n",
       "      <td id=\"T_85862_row9_col0\" class=\"data row9 col0\" >The Gallows</td>\n",
       "      <td id=\"T_85862_row9_col1\" class=\"data row9 col1\" >100000.000000</td>\n",
       "      <td id=\"T_85862_row9_col2\" class=\"data row9 col2\" >42564410.000000</td>\n",
       "      <td id=\"T_85862_row9_col3\" class=\"data row9 col3\" >42564.410000</td>\n",
       "    </tr>\n",
       "    <tr>\n",
       "      <td id=\"T_85862_row10_col0\" class=\"data row10 col0\" >Open Water</td>\n",
       "      <td id=\"T_85862_row10_col1\" class=\"data row10 col1\" >130000.000000</td>\n",
       "      <td id=\"T_85862_row10_col2\" class=\"data row10 col2\" >54537954.000000</td>\n",
       "      <td id=\"T_85862_row10_col3\" class=\"data row10 col3\" >41952.272308</td>\n",
       "    </tr>\n",
       "    <tr>\n",
       "      <td id=\"T_85862_row11_col0\" class=\"data row11 col0\" >The Texas Chain Saw Massacre</td>\n",
       "      <td id=\"T_85862_row11_col1\" class=\"data row11 col1\" >85000.000000</td>\n",
       "      <td id=\"T_85862_row11_col2\" class=\"data row11 col2\" >30774000.000000</td>\n",
       "      <td id=\"T_85862_row11_col3\" class=\"data row11 col3\" >36204.705882</td>\n",
       "    </tr>\n",
       "    <tr>\n",
       "      <td id=\"T_85862_row12_col0\" class=\"data row12 col0\" >Mad Max</td>\n",
       "      <td id=\"T_85862_row12_col1\" class=\"data row12 col1\" >400000.000000</td>\n",
       "      <td id=\"T_85862_row12_col2\" class=\"data row12 col2\" >99600000.000000</td>\n",
       "      <td id=\"T_85862_row12_col3\" class=\"data row12 col3\" >24900.000000</td>\n",
       "    </tr>\n",
       "    <tr>\n",
       "      <td id=\"T_85862_row13_col0\" class=\"data row13 col0\" >Halloween</td>\n",
       "      <td id=\"T_85862_row13_col1\" class=\"data row13 col1\" >300000.000000</td>\n",
       "      <td id=\"T_85862_row13_col2\" class=\"data row13 col2\" >69700000.000000</td>\n",
       "      <td id=\"T_85862_row13_col3\" class=\"data row13 col3\" >23233.333333</td>\n",
       "    </tr>\n",
       "    <tr>\n",
       "      <td id=\"T_85862_row14_col0\" class=\"data row14 col0\" >American Graffiti</td>\n",
       "      <td id=\"T_85862_row14_col1\" class=\"data row14 col1\" >777000.000000</td>\n",
       "      <td id=\"T_85862_row14_col2\" class=\"data row14 col2\" >114223000.000000</td>\n",
       "      <td id=\"T_85862_row14_col3\" class=\"data row14 col3\" >14700.514801</td>\n",
       "    </tr>\n",
       "    <tr>\n",
       "      <td id=\"T_85862_row15_col0\" class=\"data row15 col0\" >Once</td>\n",
       "      <td id=\"T_85862_row15_col1\" class=\"data row15 col1\" >160000.000000</td>\n",
       "      <td id=\"T_85862_row15_col2\" class=\"data row15 col2\" >20550513.000000</td>\n",
       "      <td id=\"T_85862_row15_col3\" class=\"data row15 col3\" >12844.070625</td>\n",
       "    </tr>\n",
       "    <tr>\n",
       "      <td id=\"T_85862_row16_col0\" class=\"data row16 col0\" >Clerks</td>\n",
       "      <td id=\"T_85862_row16_col1\" class=\"data row16 col1\" >27000.000000</td>\n",
       "      <td id=\"T_85862_row16_col2\" class=\"data row16 col2\" >3124130.000000</td>\n",
       "      <td id=\"T_85862_row16_col3\" class=\"data row16 col3\" >11570.851852</td>\n",
       "    </tr>\n",
       "    <tr>\n",
       "      <td id=\"T_85862_row17_col0\" class=\"data row17 col0\" >Napoleon Dynamite</td>\n",
       "      <td id=\"T_85862_row17_col1\" class=\"data row17 col1\" >400000.000000</td>\n",
       "      <td id=\"T_85862_row17_col2\" class=\"data row17 col2\" >45718097.000000</td>\n",
       "      <td id=\"T_85862_row17_col3\" class=\"data row17 col3\" >11429.524250</td>\n",
       "    </tr>\n",
       "    <tr>\n",
       "      <td id=\"T_85862_row18_col0\" class=\"data row18 col0\" >Keeping Mum</td>\n",
       "      <td id=\"T_85862_row18_col1\" class=\"data row18 col1\" >169000.000000</td>\n",
       "      <td id=\"T_85862_row18_col2\" class=\"data row18 col2\" >18395702.000000</td>\n",
       "      <td id=\"T_85862_row18_col3\" class=\"data row18 col3\" >10885.030769</td>\n",
       "    </tr>\n",
       "    <tr>\n",
       "      <td id=\"T_85862_row19_col0\" class=\"data row19 col0\" >The Hills Have Eyes</td>\n",
       "      <td id=\"T_85862_row19_col1\" class=\"data row19 col1\" >230000.000000</td>\n",
       "      <td id=\"T_85862_row19_col2\" class=\"data row19 col2\" >24770000.000000</td>\n",
       "      <td id=\"T_85862_row19_col3\" class=\"data row19 col3\" >10769.565217</td>\n",
       "    </tr>\n",
       "  </tbody>\n",
       "</table>\n"
      ],
      "text/plain": [
       "<pandas.io.formats.style.Styler at 0x1e95ab66e00>"
      ]
     },
     "execution_count": 128,
     "metadata": {},
     "output_type": "execute_result"
    }
   ],
   "source": [
    "net_profit_percentile.head(20)[['original_title', 'budget', 'net_profit', 'net_profit_budget_proportion']].style.hide(axis='index')"
   ]
  },
  {
   "cell_type": "markdown",
   "metadata": {},
   "source": [
    "**Q#6. Does the `budget` and `revenue` growing over the years?**"
   ]
  },
  {
   "cell_type": "markdown",
   "metadata": {},
   "source": [
    "<h3 id=\"release_questions\">Released Year Related Questions</h3>"
   ]
  },
  {
   "cell_type": "markdown",
   "metadata": {},
   "source": [
    "**Q#1. What year was the most successful year in the movie industry?**\n",
    "- How many successful movies got released that year?\n",
    "- What was their average budget?\n",
    "- What is the proportion of successful movies?"
   ]
  },
  {
   "cell_type": "markdown",
   "metadata": {},
   "source": [
    "Before we tried to answer the question, let's do some useful setups"
   ]
  },
  {
   "cell_type": "code",
   "execution_count": 129,
   "metadata": {},
   "outputs": [],
   "source": [
    "# Grouping movies in years\n",
    "year_grouped = tmdb.groupby('release_year')[['popularity', 'budget', 'revenue', 'runtime', 'vote_count', 'vote_average', 'net_profit']]\n",
    "\n",
    "# The mean of Numerical values for each year\n",
    "year_mean = year_grouped.mean()\n",
    "\n",
    "# The number of Movies for each year\n",
    "year_size = year_grouped.size()"
   ]
  },
  {
   "cell_type": "markdown",
   "metadata": {},
   "source": [
    "Let's answer the question now"
   ]
  },
  {
   "cell_type": "code",
   "execution_count": 130,
   "metadata": {},
   "outputs": [
    {
     "data": {
      "text/html": [
       "<div>\n",
       "<style scoped>\n",
       "    .dataframe tbody tr th:only-of-type {\n",
       "        vertical-align: middle;\n",
       "    }\n",
       "\n",
       "    .dataframe tbody tr th {\n",
       "        vertical-align: top;\n",
       "    }\n",
       "\n",
       "    .dataframe thead th {\n",
       "        text-align: right;\n",
       "    }\n",
       "</style>\n",
       "<table border=\"1\" class=\"dataframe\">\n",
       "  <thead>\n",
       "    <tr style=\"text-align: right;\">\n",
       "      <th></th>\n",
       "      <th>popularity</th>\n",
       "      <th>budget</th>\n",
       "      <th>revenue</th>\n",
       "      <th>runtime</th>\n",
       "      <th>vote_count</th>\n",
       "      <th>vote_average</th>\n",
       "      <th>net_profit</th>\n",
       "    </tr>\n",
       "    <tr>\n",
       "      <th>release_year</th>\n",
       "      <th></th>\n",
       "      <th></th>\n",
       "      <th></th>\n",
       "      <th></th>\n",
       "      <th></th>\n",
       "      <th></th>\n",
       "      <th></th>\n",
       "    </tr>\n",
       "  </thead>\n",
       "  <tbody>\n",
       "    <tr>\n",
       "      <th>2015</th>\n",
       "      <td>1.173238</td>\n",
       "      <td>2.306223e+07</td>\n",
       "      <td>8.018627e+07</td>\n",
       "      <td>97.742823</td>\n",
       "      <td>0.000344</td>\n",
       "      <td>5.793069</td>\n",
       "      <td>5.712403e+07</td>\n",
       "    </tr>\n",
       "  </tbody>\n",
       "</table>\n",
       "</div>"
      ],
      "text/plain": [
       "              popularity        budget       revenue    runtime  vote_count  \\\n",
       "release_year                                                                  \n",
       "2015            1.173238  2.306223e+07  8.018627e+07  97.742823    0.000344   \n",
       "\n",
       "              vote_average    net_profit  \n",
       "release_year                              \n",
       "2015              5.793069  5.712403e+07  "
      ]
     },
     "execution_count": 130,
     "metadata": {},
     "output_type": "execute_result"
    }
   ],
   "source": [
    "# The most successful year\n",
    "year_mean[year_mean.net_profit == year_mean.net_profit.max()]"
   ]
  },
  {
   "cell_type": "code",
   "execution_count": 131,
   "metadata": {},
   "outputs": [
    {
     "data": {
      "text/plain": [
       "358"
      ]
     },
     "execution_count": 131,
     "metadata": {},
     "output_type": "execute_result"
    }
   ],
   "source": [
    "shape_success = successful[successful.release_year == 2015].shape\n",
    "shape_success[0]"
   ]
  },
  {
   "cell_type": "markdown",
   "metadata": {},
   "source": [
    "`358` movies made it to the highest `25%` of `net_profit`"
   ]
  },
  {
   "cell_type": "code",
   "execution_count": 132,
   "metadata": {},
   "outputs": [
    {
     "data": {
      "text/plain": [
       "70.89108910891089"
      ]
     },
     "execution_count": 132,
     "metadata": {},
     "output_type": "execute_result"
    }
   ],
   "source": [
    "shape_success[0] / year_size[2015] * 100"
   ]
  },
  {
   "cell_type": "markdown",
   "metadata": {},
   "source": [
    "Almost `71%` the movies made in `2015` were successful"
   ]
  },
  {
   "cell_type": "markdown",
   "metadata": {},
   "source": [
    "**Q#2. What year was the most unsuccessful year in the movie industry?**\n",
    "- How many flopped movies got released that year?\n",
    "- What is the proportion of unsuccessful movies"
   ]
  },
  {
   "cell_type": "code",
   "execution_count": 133,
   "metadata": {},
   "outputs": [
    {
     "data": {
      "text/html": [
       "<div>\n",
       "<style scoped>\n",
       "    .dataframe tbody tr th:only-of-type {\n",
       "        vertical-align: middle;\n",
       "    }\n",
       "\n",
       "    .dataframe tbody tr th {\n",
       "        vertical-align: top;\n",
       "    }\n",
       "\n",
       "    .dataframe thead th {\n",
       "        text-align: right;\n",
       "    }\n",
       "</style>\n",
       "<table border=\"1\" class=\"dataframe\">\n",
       "  <thead>\n",
       "    <tr style=\"text-align: right;\">\n",
       "      <th></th>\n",
       "      <th>popularity</th>\n",
       "      <th>budget</th>\n",
       "      <th>revenue</th>\n",
       "      <th>runtime</th>\n",
       "      <th>vote_count</th>\n",
       "      <th>vote_average</th>\n",
       "      <th>net_profit</th>\n",
       "    </tr>\n",
       "    <tr>\n",
       "      <th>release_year</th>\n",
       "      <th></th>\n",
       "      <th></th>\n",
       "      <th></th>\n",
       "      <th></th>\n",
       "      <th></th>\n",
       "      <th></th>\n",
       "      <th></th>\n",
       "    </tr>\n",
       "  </thead>\n",
       "  <tbody>\n",
       "    <tr>\n",
       "      <th>1966</th>\n",
       "      <td>0.308457</td>\n",
       "      <td>2.259383e+06</td>\n",
       "      <td>3.326440e+06</td>\n",
       "      <td>108.590909</td>\n",
       "      <td>0.000032</td>\n",
       "      <td>6.086364</td>\n",
       "      <td>1.067058e+06</td>\n",
       "    </tr>\n",
       "  </tbody>\n",
       "</table>\n",
       "</div>"
      ],
      "text/plain": [
       "              popularity        budget       revenue     runtime  vote_count  \\\n",
       "release_year                                                                   \n",
       "1966            0.308457  2.259383e+06  3.326440e+06  108.590909    0.000032   \n",
       "\n",
       "              vote_average    net_profit  \n",
       "release_year                              \n",
       "1966              6.086364  1.067058e+06  "
      ]
     },
     "execution_count": 133,
     "metadata": {},
     "output_type": "execute_result"
    }
   ],
   "source": [
    "# The most unsuccessful year\n",
    "year_mean[year_mean.net_profit == year_mean.net_profit.min()]"
   ]
  },
  {
   "cell_type": "code",
   "execution_count": 134,
   "metadata": {},
   "outputs": [
    {
     "data": {
      "text/plain": [
       "7"
      ]
     },
     "execution_count": 134,
     "metadata": {},
     "output_type": "execute_result"
    }
   ],
   "source": [
    "shape_flopped = flopped[flopped.release_year == 1966].shape\n",
    "shape_flopped[0]"
   ]
  },
  {
   "cell_type": "code",
   "execution_count": 135,
   "metadata": {},
   "outputs": [
    {
     "data": {
      "text/plain": [
       "15.909090909090908"
      ]
     },
     "execution_count": 135,
     "metadata": {},
     "output_type": "execute_result"
    }
   ],
   "source": [
    "shape_flopped[0] / year_size[1966] * 100"
   ]
  },
  {
   "cell_type": "markdown",
   "metadata": {},
   "source": [
    "Almost `16%` of the movies made in year `1966` were unsuccessful but they played a huge part."
   ]
  },
  {
   "cell_type": "markdown",
   "metadata": {},
   "source": [
    "**Q#3. Which month has the highest released number of movies?**\n",
    "- Every year\n",
    "- Over all"
   ]
  },
  {
   "cell_type": "markdown",
   "metadata": {},
   "source": [
    "Before we answer the questions, let's group the dataset using `year` and `month`"
   ]
  },
  {
   "cell_type": "code",
   "execution_count": 136,
   "metadata": {},
   "outputs": [],
   "source": [
    "# Let's group our data with year and month\n",
    "year_month_group = tmdb.groupby([tmdb.release_date.dt.year, tmdb.release_date.dt.month_name()])"
   ]
  },
  {
   "cell_type": "markdown",
   "metadata": {},
   "source": [
    "Since we are releasing the maximum number release, we can count the occurances of `original_title`"
   ]
  },
  {
   "cell_type": "code",
   "execution_count": 137,
   "metadata": {},
   "outputs": [
    {
     "data": {
      "text/plain": [
       "year  month   \n",
       "1960  August       5\n",
       "1961  December     6\n",
       "1962  June         6\n",
       "1963  June        10\n",
       "1964  October      8\n",
       "1965  June         8\n",
       "1966  December     9\n",
       "1967  December     7\n",
       "1968  December     5\n",
       "1969  December     8\n",
       "Name: original_title, dtype: int64"
      ]
     },
     "execution_count": 137,
     "metadata": {},
     "output_type": "execute_result"
    }
   ],
   "source": [
    "# Counting the number of `original_title`\n",
    "year_month_count = year_month_group['original_title'].agg('count')\n",
    "\n",
    "# Finding the maximum value for each month\n",
    "year_month_max = year_month_count.loc[year_month_count.groupby(level=0).idxmax()]\n",
    "\n",
    "# Changing the index names\n",
    "year_month_max.index.names = ['year', 'month']\n",
    "\n",
    "# Let's check the values\n",
    "year_month_max.head(10)"
   ]
  },
  {
   "cell_type": "markdown",
   "metadata": {},
   "source": [
    "As we can see form the above output, for each year we have different months.  \n",
    "  \n",
    "Let's visualize them in graph"
   ]
  },
  {
   "cell_type": "code",
   "execution_count": 138,
   "metadata": {},
   "outputs": [
    {
     "data": {
      "image/png": "[encoded data removed]",
      "text/plain": [
       "<Figure size 1152x576 with 1 Axes>"
      ]
     },
     "metadata": {},
     "output_type": "display_data"
    }
   ],
   "source": [
    "# Preparing tick labels for x-axis\n",
    "x_ticks = [f\"{x[1]} - {x[0]}\" for x in list(year_month_max.index)]\n",
    "length = len(x_ticks)\n",
    "x_tick_points = np.linspace(1, length, length)\n",
    "\n",
    "fig, ax = plt.subplots(figsize=(16, 8))\n",
    "plt.plot(x_tick_points, year_month_max, color=\"#777da7ff\", label=x_tick_points)\n",
    "plt.title(\"Month with Maximum Movie Release each Year\", fontsize=18)\n",
    "plt.xticks(x_tick_points, x_ticks, rotation=45, horizontalalignment='right')\n",
    "plt.ylabel(\"Number of Movies\", fontsize=14);"
   ]
  },
  {
   "cell_type": "markdown",
   "metadata": {},
   "source": [
    "Now let's take a look what month have the highest movie release for the whole dataset"
   ]
  },
  {
   "cell_type": "code",
   "execution_count": 139,
   "metadata": {},
   "outputs": [
    {
     "data": {
      "text/plain": [
       "release_date\n",
       "February      564\n",
       "April         647\n",
       "July          648\n",
       "March         652\n",
       "May           670\n",
       "January       679\n",
       "November      680\n",
       "June          701\n",
       "August        752\n",
       "December      825\n",
       "October       948\n",
       "September    1061\n",
       "Name: original_title, dtype: int64"
      ]
     },
     "execution_count": 139,
     "metadata": {},
     "output_type": "execute_result"
    }
   ],
   "source": [
    "# Grouping the data\n",
    "month_group = tmdb.groupby(tmdb.release_date.dt.month_name())\n",
    "\n",
    "# As we did above, let's count the occurances of `original_title`\n",
    "month_group_count = month_group.original_title.size()\n",
    "\n",
    "# Let's sort the values to make highest and lowest month visualization easy\n",
    "month_group_count = month_group_count.sort_values()\n",
    "\n",
    "month_group_count"
   ]
  },
  {
   "cell_type": "markdown",
   "metadata": {},
   "source": [
    "Let's draw the graph and visualize it"
   ]
  },
  {
   "cell_type": "code",
   "execution_count": 140,
   "metadata": {},
   "outputs": [
    {
     "data": {
      "image/png": "[encoded data removed]",
      "text/plain": [
       "<Figure size 1152x576 with 1 Axes>"
      ]
     },
     "metadata": {},
     "output_type": "display_data"
    }
   ],
   "source": [
    "# Preparing tick labels for x-axis\n",
    "length = len(month_group_count)\n",
    "x_tick_points = np.linspace(1, length, length)\n",
    "\n",
    "fig, ax = plt.subplots(figsize=(16, 8))\n",
    "plt.bar(x_tick_points, month_group_count, color=\"#fe5f55ff\", label=x_tick_points, alpha=0.7)\n",
    "plt.title(\"Month with Maximum Movie Release from 1960 - 2015\", fontsize=18)\n",
    "plt.xticks(x_tick_points, list(month_group_count.index), rotation=45, horizontalalignment='right')\n",
    "plt.ylabel(\"Number of Movies\", fontsize=14);"
   ]
  },
  {
   "cell_type": "markdown",
   "metadata": {},
   "source": [
    "**Q#4. Which month made the Highest Average Net Profit?**\n",
    "- Every year\n",
    "- Over all"
   ]
  },
  {
   "cell_type": "markdown",
   "metadata": {},
   "source": [
    "To answer this question, we can use the groups we created in the above question"
   ]
  },
  {
   "cell_type": "code",
   "execution_count": 141,
   "metadata": {},
   "outputs": [
    {
     "data": {
      "text/plain": [
       "Year  Month    \n",
       "1960  October      1.248628e+07\n",
       "1961  January      4.740767e+07\n",
       "1962  November     2.018096e+07\n",
       "1963  October      2.625129e+07\n",
       "1964  August       5.263636e+07\n",
       "1965  March        8.321121e+07\n",
       "1966  August       6.885000e+06\n",
       "1967  October      7.551438e+07\n",
       "1968  April        1.614201e+07\n",
       "1969  September    2.250462e+07\n",
       "Name: net_profit, dtype: float64"
      ]
     },
     "execution_count": 141,
     "metadata": {},
     "output_type": "execute_result"
    }
   ],
   "source": [
    "# Calculating the average for the each month in the year\n",
    "year_month_average = year_month_group.net_profit.mean()\n",
    "\n",
    "# Finding the month with maximum average `net_profit`\n",
    "year_month_average = year_month_average.loc[year_month_average.groupby(level=0).idxmax()]\n",
    "\n",
    "# Changing index names\n",
    "year_month_average.index.names = ['Year', 'Month']\n",
    "\n",
    "year_month_average.head(10)"
   ]
  },
  {
   "cell_type": "markdown",
   "metadata": {},
   "source": [
    "As we can see from the above output, we have different values for the month and average `net_profit` values.  \n",
    "  \n",
    "Let's visualize it in a graph"
   ]
  },
  {
   "cell_type": "code",
   "execution_count": 142,
   "metadata": {},
   "outputs": [
    {
     "data": {
      "image/png": "[encoded data removed]",
      "text/plain": [
       "<Figure size 1152x576 with 1 Axes>"
      ]
     },
     "metadata": {},
     "output_type": "display_data"
    }
   ],
   "source": [
    "# Preparing tick labels for x-axis\n",
    "x_ticks = [f\"{x[1]} - {x[0]}\" for x in list(year_month_average.index)]\n",
    "length = len(x_ticks)\n",
    "x_tick_points = np.linspace(1, length, length)\n",
    "\n",
    "fig, ax = plt.subplots(figsize=(16, 8))\n",
    "plt.plot(x_tick_points, year_month_average, color=\"#777da7ff\", label=x_tick_points)\n",
    "plt.title(\"Month with Maximum Net Profit each Year\", fontsize=18)\n",
    "plt.xticks(x_tick_points, x_ticks, rotation=45, horizontalalignment='right')\n",
    "plt.ylabel(\"Net Profit\", fontsize=14);"
   ]
  },
  {
   "cell_type": "markdown",
   "metadata": {},
   "source": [
    "From the above graph, the average `net_profit` is getting higher and higher even though it's is reaching high pick at times.  \n",
    "  \n",
    "Let's now compute for all the months starting from 1960 - 2015"
   ]
  },
  {
   "cell_type": "code",
   "execution_count": 143,
   "metadata": {},
   "outputs": [
    {
     "data": {
      "text/plain": [
       "release_date\n",
       "January      2.300403e+07\n",
       "September    2.358568e+07\n",
       "February     2.739781e+07\n",
       "October      2.917670e+07\n",
       "August       2.924537e+07\n",
       "April        3.550119e+07\n",
       "March        3.738524e+07\n",
       "December     5.359209e+07\n",
       "July         5.432829e+07\n",
       "November     5.509620e+07\n",
       "May          6.120493e+07\n",
       "June         7.105864e+07\n",
       "Name: net_profit, dtype: float64"
      ]
     },
     "execution_count": 143,
     "metadata": {},
     "output_type": "execute_result"
    }
   ],
   "source": [
    "# Again let's use the group we have already made for Q#3\n",
    "# Let's find the mean for `net_profit` column\n",
    "month_group_average = month_group.net_profit.mean()\n",
    "\n",
    "# Let's sort the values to make visualization easy\n",
    "month_group_average = month_group_average.sort_values()\n",
    "\n",
    "# Let's check the values\n",
    "month_group_average"
   ]
  },
  {
   "cell_type": "markdown",
   "metadata": {},
   "source": [
    "Let's visualize it using graph"
   ]
  },
  {
   "cell_type": "code",
   "execution_count": 144,
   "metadata": {},
   "outputs": [
    {
     "data": {
      "image/png": "[encoded data removed]",
      "text/plain": [
       "<Figure size 1152x576 with 1 Axes>"
      ]
     },
     "metadata": {},
     "output_type": "display_data"
    }
   ],
   "source": [
    "# Preparing tick labels for x-axis\n",
    "length = len(month_group_average)\n",
    "x_tick_points = np.linspace(1, length, length)\n",
    "\n",
    "fig, ax = plt.subplots(figsize=(16, 8))\n",
    "plt.bar(x_tick_points, month_group_average, color=\"#fe5f55ff\", label=x_tick_points, alpha=0.7)\n",
    "plt.title(\"Month with Maximum Average Net Profit from 1960 - 2015\", fontsize=18)\n",
    "plt.xticks(x_tick_points, list(month_group_average.index), rotation=45, horizontalalignment='right')\n",
    "plt.ylabel(\"Net Profit\", fontsize=14);"
   ]
  },
  {
   "cell_type": "markdown",
   "metadata": {},
   "source": [
    "**Q#5. What is the average popularity for each year?**\n",
    "- Which year has the highest and lowest values"
   ]
  },
  {
   "cell_type": "code",
   "execution_count": 145,
   "metadata": {},
   "outputs": [
    {
     "data": {
      "text/plain": [
       "Text(0.5, 1.0, 'Average Popularity of Movies every Years')"
      ]
     },
     "execution_count": 145,
     "metadata": {},
     "output_type": "execute_result"
    },
    {
     "data": {
      "image/png": "[encoded data removed]",
      "text/plain": [
       "<Figure size 1152x576 with 1 Axes>"
      ]
     },
     "metadata": {},
     "output_type": "display_data"
    }
   ],
   "source": [
    "fig, ax = plt.subplots(figsize=(16, 8))\n",
    "\n",
    "plt.bar(year_mean.index, year_mean.popularity, color='#777da7ff')\n",
    "plt.xlabel('Year')\n",
    "plt.ylabel('Average Popularity')\n",
    "plt.title(\"Average Popularity of Movies every Years\", fontsize=18)"
   ]
  },
  {
   "cell_type": "markdown",
   "metadata": {},
   "source": [
    "**Q#7. Does the number of released movies increased over the rears?**"
   ]
  },
  {
   "cell_type": "code",
   "execution_count": 146,
   "metadata": {},
   "outputs": [
    {
     "data": {
      "image/png": "[encoded data removed]",
      "text/plain": [
       "<Figure size 1152x576 with 1 Axes>"
      ]
     },
     "metadata": {},
     "output_type": "display_data"
    }
   ],
   "source": [
    "fig, ax = plt.subplots(figsize=(16, 8))\n",
    "plt.plot(year_size.index, year_size, color='#fe5f55ff')\n",
    "plt.xlabel('Year')\n",
    "plt.ylabel('Number of Movies')\n",
    "plt.title(\"Number of Movies over the Years\", fontsize=18);"
   ]
  },
  {
   "cell_type": "markdown",
   "metadata": {},
   "source": [
    "<h2 id=\"conclusion\">Conclusion</h2>"
   ]
  },
  {
   "cell_type": "markdown",
   "metadata": {},
   "source": [
    "The dataset isn't a collection of clean data points. It is filled with a bunch of outliers for most of it's columns which makes the data analysis so difficult.  \n",
    "For example, let's take a look at the box plot graph of `budget`, `revenue`, and `popularity` columns to visualize how disturbing the outliers are."
   ]
  },
  {
   "cell_type": "code",
   "execution_count": 213,
   "metadata": {},
   "outputs": [
    {
     "data": {
      "image/png": "[encoded data removed]",
      "text/plain": [
       "<Figure size 576x576 with 1 Axes>"
      ]
     },
     "metadata": {},
     "output_type": "display_data"
    }
   ],
   "source": [
    "tmdb.boxplot(column=['budget', 'revenue', 'popularity'], figsize=(8, 8))\n",
    "plt.title(\"Box Plot for Budget, Revenue, and Popularity Columns\", fontsize=16);"
   ]
  },
  {
   "cell_type": "markdown",
   "metadata": {},
   "source": [
    "From the above plot we clearly see a huge amount of our data points fall into the outliers. Dropping the outliers lead to loosing a huge portion of our dataset which is a risky; we might loose a crucial data along. Analysing as they are is also a risk since they will lead to a falsy justification. So, I took the risk of analysing the dataset as they are. The above results might be falsy result when the dataset is analysed after removing the outliers.  "
   ]
  }
 ],
 "metadata": {
  "kernelspec": {
   "display_name": "Python 3.10.5 64-bit ('3.10.5')",
   "language": "python",
   "name": "python3"
  },
  "language_info": {
   "codemirror_mode": {
    "name": "ipython",
    "version": 3
   },
   "file_extension": ".py",
   "mimetype": "text/x-python",
   "name": "python",
   "nbconvert_exporter": "python",
   "pygments_lexer": "ipython3",
   "version": "3.10.5"
  },
  "orig_nbformat": 4,
  "vscode": {
   "interpreter": {
    "hash": "b6544b07425aa4e6a8a767d8962c6f57a69f6168c333d9aac871d12ae41bb411"
   }
  }
 },
 "nbformat": 4,
 "nbformat_minor": 2
}
